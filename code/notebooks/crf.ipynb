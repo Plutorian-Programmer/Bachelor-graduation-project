{
 "cells": [
  {
   "cell_type": "code",
   "execution_count": 2,
   "metadata": {},
   "outputs": [],
   "source": [
    "import numpy as np\n",
    "import matplotlib.pyplot as plt\n",
    "import pandas as pd\n",
    "datapath = \"../data/data/v2.0/\"\n",
    "import csv\n",
    "from collections import defaultdict\n",
    "import seaborn as sn\n",
    "from numpy.random import default_rng"
   ]
  },
  {
   "cell_type": "code",
   "execution_count": 2,
   "metadata": {},
   "outputs": [
    {
     "name": "stdout",
     "output_type": "stream",
     "text": [
      "Collecting sklearn-crfsuite\n",
      "  Using cached https://files.pythonhosted.org/packages/25/74/5b7befa513482e6dee1f3dd68171a6c9dfc14c0eaa00f885ffeba54fe9b0/sklearn_crfsuite-0.3.6-py2.py3-none-any.whl\n",
      "Collecting python-crfsuite>=0.8.3 (from sklearn-crfsuite)\n",
      "  Downloading https://files.pythonhosted.org/packages/48/34/2372273a54ca3b004fdb32c7393dd41311c08585a53e44395df9a6a9ccfd/python_crfsuite-0.9.8-cp37-cp37m-win_amd64.whl (150kB)\n",
      "Requirement already satisfied: six in c:\\users\\karst\\anaconda3\\lib\\site-packages (from sklearn-crfsuite) (1.15.0)\n",
      "Requirement already satisfied: tqdm>=2.0 in c:\\users\\karst\\anaconda3\\lib\\site-packages (from sklearn-crfsuite) (4.60.0)\n",
      "Collecting tabulate (from sklearn-crfsuite)\n",
      "  Using cached https://files.pythonhosted.org/packages/ca/80/7c0cad11bd99985cfe7c09427ee0b4f9bd6b048bd13d4ffb32c6db237dfb/tabulate-0.8.9-py3-none-any.whl\n",
      "Installing collected packages: python-crfsuite, tabulate, sklearn-crfsuite\n",
      "Successfully installed python-crfsuite-0.9.8 sklearn-crfsuite-0.3.6 tabulate-0.8.9\n",
      "Note: you may need to restart the kernel to use updated packages.\n"
     ]
    }
   ],
   "source": [
    "# pip install sklearn-crfsuite"
   ]
  },
  {
   "cell_type": "code",
   "execution_count": 3,
   "metadata": {},
   "outputs": [],
   "source": [
    "from itertools import chain\n",
    "\n",
    "import nltk\n",
    "import sklearn\n",
    "import scipy.stats\n",
    "# from sklearn.metrics import make_scorer\n",
    "# from sklearn.cross_validation import cross_val_score\n",
    "# from sklearn.grid_search import RandomizedSearchCV\n",
    "\n",
    "import sklearn_crfsuite\n",
    "from sklearn_crfsuite import scorers\n",
    "from sklearn_crfsuite import metrics"
   ]
  },
  {
   "cell_type": "code",
   "execution_count": 2,
   "metadata": {},
   "outputs": [],
   "source": [
    "maxInt = sys.maxsize\n",
    "\n",
    "while True:\n",
    "    # decrease the maxInt value by factor 10 \n",
    "    # as long as the OverflowError occurs.\n",
    "\n",
    "    try:\n",
    "        csv.field_size_limit(maxInt)\n",
    "        break\n",
    "    except OverflowError:\n",
    "        maxInt = int(maxInt/10)"
   ]
  },
  {
   "cell_type": "code",
   "execution_count": 3,
   "metadata": {},
   "outputs": [],
   "source": [
    "english_dataframe = pd.read_csv(datapath+\"hipe2020/en/HIPE-2022-v2.0-hipe2020-dev-en.tsv\", sep = '\\t', header = 0, engine=\"python\", comment='#', quoting=csv.QUOTE_NONE)"
   ]
  },
  {
   "cell_type": "code",
   "execution_count": 4,
   "metadata": {},
   "outputs": [],
   "source": [
    "misc_list = english_dataframe[\"MISC\"].to_list()"
   ]
  },
  {
   "cell_type": "code",
   "execution_count": 5,
   "metadata": {},
   "outputs": [],
   "source": [
    "sentence_idx = []\n",
    "idx = 0\n",
    "for item in misc_list:\n",
    "    sentence_idx.append(idx)\n",
    "    if \"EndOfSentence\" in item:\n",
    "        idx += 1\n",
    "english_dataframe[\"SENTENCE_ID\"] = sentence_idx"
   ]
  },
  {
   "cell_type": "code",
   "execution_count": 6,
   "metadata": {},
   "outputs": [],
   "source": [
    "labelled_sentences = set()\n",
    "for i, label in enumerate(english_dataframe[\"NE-COARSE-LIT\"].to_list()):\n",
    "    if label != \"O\":\n",
    "        labelled_sentences.add(sentence_idx[i])"
   ]
  },
  {
   "cell_type": "code",
   "execution_count": 7,
   "metadata": {},
   "outputs": [],
   "source": [
    "token_dict = english_dataframe[\"TOKEN\"].str.lower().value_counts().to_dict()\n",
    "NE_dict = english_dataframe[english_dataframe[\"NE-COARSE-LIT\"] != \"O\"][\"TOKEN\"].value_counts().to_dict()"
   ]
  },
  {
   "cell_type": "code",
   "execution_count": 8,
   "metadata": {},
   "outputs": [
    {
     "name": "stdout",
     "output_type": "stream",
     "text": [
      "14543\n",
      "[',', 'the', '.', 'of', 'and', 'to', 'a', 'â¬', 'in', 'is', '-', 'that', 'for', 'he', 'be', 'as', 'was', 'it', 'at', 'on', 'by', 'with', 'this', 'will', 'from', 'have', 'â€™', 'his', 'are', 'i', 'their', ';', 'which', 's', 'not', 'they', 'has', '*', 'â€œ', \"'\", 'you', 'an', 'or', 'one', 'all', 'â€�', 'we', 'been', 'but', 'no', 'who', 'than', 'our', 'were', 'other', 'county', 'â€”', 'any', 'them', 'man', 'made', 'when', 'new', 'more', 'can', 'j', 'out', 'there', 'may', 'day', 'would', 'its', ':', 'had', 'your']\n",
      "75\n"
     ]
    }
   ],
   "source": [
    "feature_list = []\n",
    "total_word_count = len(english_dataframe)\n",
    "total = 0\n",
    "for key in token_dict:\n",
    "    total += token_dict[key]\n",
    "    feature_list.append(key)\n",
    "    if total > total_word_count * 0.5:\n",
    "        break\n",
    "print(total)\n",
    "print(feature_list)\n",
    "print(len(feature_list))"
   ]
  },
  {
   "cell_type": "code",
   "execution_count": 9,
   "metadata": {},
   "outputs": [],
   "source": [
    "post_fix_dict_3 = defaultdict(lambda:0)\n",
    "post_fix_dict_2 = defaultdict(lambda:0)\n",
    "post_fix_3_list = []\n",
    "post_fix_2_list = []\n",
    "for key in token_dict:\n",
    "    if key == \"endofsentence\":\n",
    "        continue\n",
    "    if len(key) <= 2:\n",
    "        continue\n",
    "    count = token_dict[key]\n",
    "    \n",
    "    if len(key) == 3:\n",
    "        post_fix_2 = key[-2:]\n",
    "        post_fix_dict_2[post_fix_2] += count\n",
    "        if post_fix_dict_2[post_fix_2] >= 30 and post_fix_2 not in post_fix_2_list:\n",
    "            post_fix_2_list.append(post_fix_2)\n",
    "        continue\n",
    "\n",
    "    post_fix_3 = key[-3:]\n",
    "    post_fix_dict_3[post_fix_3] += count\n",
    "    if post_fix_dict_3[post_fix_3] >= 30 and post_fix_3 not in post_fix_3_list:\n",
    "            post_fix_3_list.append(post_fix_3)\n",
    "    "
   ]
  },
  {
   "cell_type": "code",
   "execution_count": 10,
   "metadata": {},
   "outputs": [],
   "source": [
    "label_list =  list(pd.unique(english_dataframe[\"NE-COARSE-LIT\"]))"
   ]
  },
  {
   "cell_type": "code",
   "execution_count": 11,
   "metadata": {},
   "outputs": [
    {
     "name": "stdout",
     "output_type": "stream",
     "text": [
      "0.1\n",
      "0.2\n",
      "0.3\n",
      "0.4\n",
      "0.5\n",
      "0.6\n",
      "0.7\n",
      "0.8\n",
      "0.9\n"
     ]
    }
   ],
   "source": [
    "feature_matrix = []\n",
    "label_matrix = []\n",
    "pos_dict = defaultdict(lambda: [])\n",
    "label_dict = defaultdict(lambda: [])\n",
    "pos = 0\n",
    "progress = [0.1,0.2,0.3,0.4,0.5,0.6,0.7,0.8,0.9,1]\n",
    "prev_label = 0\n",
    "extra_features = 6\n",
    "check = True\n",
    "for idx in english_dataframe.index:\n",
    "    if idx/len(english_dataframe) > progress[0]:\n",
    "        print(progress[0])\n",
    "        progress.pop(0)\n",
    "    pos += 1\n",
    "    row = english_dataframe.iloc[idx]\n",
    "    token = row[\"TOKEN\"]\n",
    "    if isinstance(token, float): #null in the tsv is taken as a nan value\n",
    "        token = \"null\"\n",
    "    prev_label = label\n",
    "    label = int(row[\"NE-COARSE-LIT\"] != \"O\")\n",
    "    if token.lower() in feature_list:\n",
    "        pos_dict[token.lower() ].append(pos)\n",
    "    if \"EndOfSentence\" not in row[\"MISC\"]:\n",
    "        label_dict[token].append((pos,label,prev_label,0))\n",
    "        continue\n",
    "    label_dict[token].append((pos,label,prev_label,1))\n",
    "    # loop of all tokens in a sentence\n",
    "    for token in label_dict:\n",
    "        # loop over all ocurances of a token\n",
    "        for item in label_dict[token]:\n",
    "            feature_vector = np.full(shape = (len(feature_list)+extra_features), fill_value = np.inf) #differntiate between wheter a token occurs or wheter the current token is in the top 50%\n",
    "            # label_vector = np.zeros(shape=(2))\n",
    "            current_pos = item[0]\n",
    "            \n",
    "            # loop over all features present in a sentence\n",
    "            for feature in pos_dict:\n",
    "                closest_pos = pos_dict[feature][0] - current_pos # starting point\n",
    "                \n",
    "                # loop over all occurences of a feature present in a sentence\n",
    "                for pos in pos_dict[feature]:\n",
    "                    relative_pos = pos - current_pos\n",
    "                    if abs(relative_pos) < abs(closest_pos):\n",
    "                        closest_pos = relative_pos\n",
    "                    else: break\n",
    "                feature_vector[feature_list.index(feature)] = closest_pos\n",
    "            feature_vector[-1] = item[0] # add location as feature\n",
    "            feature_vector[-2] = item[3] # add wheter the item is the end of a sentence\n",
    "            feature_vector[-3] = int(token[0].isupper()) #add wheter the first char is a capital letter\n",
    "            feature_vector[-4] = int(any(char.isdigit() for char in token)) #add wheter the token contains a number\n",
    "            \n",
    "\n",
    "            # add post fixes\n",
    "            if len(token) > 3:\n",
    "                post_fix = token[-3:].lower()\n",
    "                if post_fix in post_fix_3_list:\n",
    "                    feature_vector[-5] = post_fix_3_list.index(post_fix) + 1\n",
    "                    check = False\n",
    "                # print(post_fix)\n",
    "                else: \n",
    "                    feature_vector[-5] = 0\n",
    "            if len(token) > 2:\n",
    "                post_fix = token[-2:].lower()\n",
    "                if post_fix in post_fix_2_list:\n",
    "                    feature_vector[-6] = post_fix_2_list.index(post_fix) + 1\n",
    "                else: \n",
    "                    feature_vector[-6] = 0\n",
    "                # print(post_fix)\n",
    "            # if not check:\n",
    "            #     print(token)\n",
    "            #     break\n",
    "            feature_matrix.append(feature_vector)\n",
    "            # label_vector[item[1]] = 1\n",
    "            label_matrix.append(item[1])\n",
    "    # break\n",
    "    pos = 0\n",
    "    pos_dict = defaultdict(lambda: [])\n",
    "    label_dict = defaultdict(lambda: [])\n",
    "    prev_label = 0\n",
    "feature_matrix = np.array(feature_matrix)\n",
    "label_matrix = np.array(label_matrix)\n"
   ]
  },
  {
   "cell_type": "code",
   "execution_count": null,
   "metadata": {},
   "outputs": [],
   "source": []
  }
 ],
 "metadata": {
  "interpreter": {
   "hash": "7df5654842b225cf4935ec3a142cde16adea23bd204b8890b7d1368ec736f174"
  },
  "kernelspec": {
   "display_name": "Python 3.7.4 ('base')",
   "language": "python",
   "name": "python3"
  },
  "language_info": {
   "codemirror_mode": {
    "name": "ipython",
    "version": 3
   },
   "file_extension": ".py",
   "mimetype": "text/x-python",
   "name": "python",
   "nbconvert_exporter": "python",
   "pygments_lexer": "ipython3",
   "version": "3.7.4"
  },
  "orig_nbformat": 4
 },
 "nbformat": 4,
 "nbformat_minor": 2
}
