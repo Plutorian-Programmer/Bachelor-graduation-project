{
 "cells": [
  {
   "cell_type": "code",
   "execution_count": 133,
   "metadata": {},
   "outputs": [],
   "source": [
    "import numpy as np\n",
    "import matplotlib.pyplot as plt\n",
    "import pandas as pd\n",
    "datapath = \"../data/data/v2.0/\"\n",
    "import csv\n",
    "from collections import defaultdict\n",
    "# code\\data\\data\\v2.0\\hipe2020\\en\\HIPE-2022-v2.0-hipe2020-dev-en.tsv"
   ]
  },
  {
   "cell_type": "code",
   "execution_count": 2,
   "metadata": {},
   "outputs": [],
   "source": [
    "maxInt = sys.maxsize\n",
    "\n",
    "while True:\n",
    "    # decrease the maxInt value by factor 10 \n",
    "    # as long as the OverflowError occurs.\n",
    "\n",
    "    try:\n",
    "        csv.field_size_limit(maxInt)\n",
    "        break\n",
    "    except OverflowError:\n",
    "        maxInt = int(maxInt/10)"
   ]
  },
  {
   "cell_type": "code",
   "execution_count": 46,
   "metadata": {},
   "outputs": [
    {
     "data": {
      "text/html": [
       "<div>\n",
       "<style scoped>\n",
       "    .dataframe tbody tr th:only-of-type {\n",
       "        vertical-align: middle;\n",
       "    }\n",
       "\n",
       "    .dataframe tbody tr th {\n",
       "        vertical-align: top;\n",
       "    }\n",
       "\n",
       "    .dataframe thead th {\n",
       "        text-align: right;\n",
       "    }\n",
       "</style>\n",
       "<table border=\"1\" class=\"dataframe\">\n",
       "  <thead>\n",
       "    <tr style=\"text-align: right;\">\n",
       "      <th></th>\n",
       "      <th>TOKEN</th>\n",
       "      <th>NE-COARSE-LIT</th>\n",
       "      <th>NE-COARSE-METO</th>\n",
       "      <th>NE-FINE-LIT</th>\n",
       "      <th>NE-FINE-METO</th>\n",
       "      <th>NE-FINE-COMP</th>\n",
       "      <th>NE-NESTED</th>\n",
       "      <th>NEL-LIT</th>\n",
       "      <th>NEL-METO</th>\n",
       "      <th>MISC</th>\n",
       "    </tr>\n",
       "  </thead>\n",
       "  <tbody>\n",
       "    <tr>\n",
       "      <td>0</td>\n",
       "      <td>From</td>\n",
       "      <td>O</td>\n",
       "      <td>O</td>\n",
       "      <td>NaN</td>\n",
       "      <td>NaN</td>\n",
       "      <td>NaN</td>\n",
       "      <td>NaN</td>\n",
       "      <td>NaN</td>\n",
       "      <td>NaN</td>\n",
       "      <td>NaN</td>\n",
       "    </tr>\n",
       "    <tr>\n",
       "      <td>1</td>\n",
       "      <td>the</td>\n",
       "      <td>O</td>\n",
       "      <td>O</td>\n",
       "      <td>NaN</td>\n",
       "      <td>NaN</td>\n",
       "      <td>NaN</td>\n",
       "      <td>NaN</td>\n",
       "      <td>NaN</td>\n",
       "      <td>NaN</td>\n",
       "      <td>NaN</td>\n",
       "    </tr>\n",
       "    <tr>\n",
       "      <td>2</td>\n",
       "      <td>AMERICAN</td>\n",
       "      <td>B-prod</td>\n",
       "      <td>O</td>\n",
       "      <td>NaN</td>\n",
       "      <td>NaN</td>\n",
       "      <td>NaN</td>\n",
       "      <td>NaN</td>\n",
       "      <td>NIL</td>\n",
       "      <td>NaN</td>\n",
       "      <td>NaN</td>\n",
       "    </tr>\n",
       "    <tr>\n",
       "      <td>3</td>\n",
       "      <td>MERCURY</td>\n",
       "      <td>I-prod</td>\n",
       "      <td>O</td>\n",
       "      <td>NaN</td>\n",
       "      <td>NaN</td>\n",
       "      <td>NaN</td>\n",
       "      <td>NaN</td>\n",
       "      <td>NIL</td>\n",
       "      <td>NaN</td>\n",
       "      <td>NoSpaceAfter</td>\n",
       "    </tr>\n",
       "    <tr>\n",
       "      <td>4</td>\n",
       "      <td>.</td>\n",
       "      <td>O</td>\n",
       "      <td>O</td>\n",
       "      <td>NaN</td>\n",
       "      <td>NaN</td>\n",
       "      <td>NaN</td>\n",
       "      <td>NaN</td>\n",
       "      <td>NaN</td>\n",
       "      <td>NaN</td>\n",
       "      <td>EndOfLine|EndOfSentence</td>\n",
       "    </tr>\n",
       "    <tr>\n",
       "      <td>...</td>\n",
       "      <td>...</td>\n",
       "      <td>...</td>\n",
       "      <td>...</td>\n",
       "      <td>...</td>\n",
       "      <td>...</td>\n",
       "      <td>...</td>\n",
       "      <td>...</td>\n",
       "      <td>...</td>\n",
       "      <td>...</td>\n",
       "      <td>...</td>\n",
       "    </tr>\n",
       "    <tr>\n",
       "      <td>29054</td>\n",
       "      <td>Booth</td>\n",
       "      <td>O</td>\n",
       "      <td>O</td>\n",
       "      <td>NaN</td>\n",
       "      <td>NaN</td>\n",
       "      <td>NaN</td>\n",
       "      <td>NaN</td>\n",
       "      <td>NaN</td>\n",
       "      <td>NaN</td>\n",
       "      <td>NaN</td>\n",
       "    </tr>\n",
       "    <tr>\n",
       "      <td>29055</td>\n",
       "      <td>of</td>\n",
       "      <td>O</td>\n",
       "      <td>O</td>\n",
       "      <td>NaN</td>\n",
       "      <td>NaN</td>\n",
       "      <td>NaN</td>\n",
       "      <td>NaN</td>\n",
       "      <td>NaN</td>\n",
       "      <td>NaN</td>\n",
       "      <td>NaN</td>\n",
       "    </tr>\n",
       "    <tr>\n",
       "      <td>29056</td>\n",
       "      <td>course</td>\n",
       "      <td>O</td>\n",
       "      <td>O</td>\n",
       "      <td>NaN</td>\n",
       "      <td>NaN</td>\n",
       "      <td>NaN</td>\n",
       "      <td>NaN</td>\n",
       "      <td>NaN</td>\n",
       "      <td>NaN</td>\n",
       "      <td>NoSpaceAfter</td>\n",
       "    </tr>\n",
       "    <tr>\n",
       "      <td>29057</td>\n",
       "      <td>)</td>\n",
       "      <td>O</td>\n",
       "      <td>O</td>\n",
       "      <td>NaN</td>\n",
       "      <td>NaN</td>\n",
       "      <td>NaN</td>\n",
       "      <td>NaN</td>\n",
       "      <td>NaN</td>\n",
       "      <td>NaN</td>\n",
       "      <td>NoSpaceAfter</td>\n",
       "    </tr>\n",
       "    <tr>\n",
       "      <td>29058</td>\n",
       "      <td>.</td>\n",
       "      <td>O</td>\n",
       "      <td>O</td>\n",
       "      <td>NaN</td>\n",
       "      <td>NaN</td>\n",
       "      <td>NaN</td>\n",
       "      <td>NaN</td>\n",
       "      <td>NaN</td>\n",
       "      <td>NaN</td>\n",
       "      <td>EndOfLine|EndOfSentence</td>\n",
       "    </tr>\n",
       "  </tbody>\n",
       "</table>\n",
       "<p>29059 rows × 10 columns</p>\n",
       "</div>"
      ],
      "text/plain": [
       "          TOKEN NE-COARSE-LIT NE-COARSE-METO  NE-FINE-LIT  NE-FINE-METO  \\\n",
       "0          From             O              O          NaN           NaN   \n",
       "1           the             O              O          NaN           NaN   \n",
       "2      AMERICAN        B-prod              O          NaN           NaN   \n",
       "3       MERCURY        I-prod              O          NaN           NaN   \n",
       "4             .             O              O          NaN           NaN   \n",
       "...         ...           ...            ...          ...           ...   \n",
       "29054     Booth             O              O          NaN           NaN   \n",
       "29055        of             O              O          NaN           NaN   \n",
       "29056    course             O              O          NaN           NaN   \n",
       "29057         )             O              O          NaN           NaN   \n",
       "29058         .             O              O          NaN           NaN   \n",
       "\n",
       "       NE-FINE-COMP  NE-NESTED NEL-LIT NEL-METO                     MISC  \n",
       "0               NaN        NaN     NaN      NaN                      NaN  \n",
       "1               NaN        NaN     NaN      NaN                      NaN  \n",
       "2               NaN        NaN     NIL      NaN                      NaN  \n",
       "3               NaN        NaN     NIL      NaN             NoSpaceAfter  \n",
       "4               NaN        NaN     NaN      NaN  EndOfLine|EndOfSentence  \n",
       "...             ...        ...     ...      ...                      ...  \n",
       "29054           NaN        NaN     NaN      NaN                      NaN  \n",
       "29055           NaN        NaN     NaN      NaN                      NaN  \n",
       "29056           NaN        NaN     NaN      NaN             NoSpaceAfter  \n",
       "29057           NaN        NaN     NaN      NaN             NoSpaceAfter  \n",
       "29058           NaN        NaN     NaN      NaN  EndOfLine|EndOfSentence  \n",
       "\n",
       "[29059 rows x 10 columns]"
      ]
     },
     "execution_count": 46,
     "metadata": {},
     "output_type": "execute_result"
    }
   ],
   "source": [
    "test_dataframe = pd.read_csv(datapath+\"hipe2020/en/HIPE-2022-v2.0-hipe2020-dev-en.tsv\", sep = '\\t', header = 0, engine=\"python\", comment='#', na_values=['_'], quoting=csv.QUOTE_NONE)\n",
    "test_dataframe"
   ]
  },
  {
   "cell_type": "code",
   "execution_count": 47,
   "metadata": {},
   "outputs": [],
   "source": [
    "test_NE = test_dataframe[test_dataframe[\"NE-COARSE-LIT\"] != \"O\"]\n",
    "test_dataframe[\"TOKEN\"] = test_dataframe[\"TOKEN\"].str.lower()"
   ]
  },
  {
   "cell_type": "code",
   "execution_count": 91,
   "metadata": {},
   "outputs": [
    {
     "data": {
      "text/html": [
       "<div>\n",
       "<style scoped>\n",
       "    .dataframe tbody tr th:only-of-type {\n",
       "        vertical-align: middle;\n",
       "    }\n",
       "\n",
       "    .dataframe tbody tr th {\n",
       "        vertical-align: top;\n",
       "    }\n",
       "\n",
       "    .dataframe thead th {\n",
       "        text-align: right;\n",
       "    }\n",
       "</style>\n",
       "<table border=\"1\" class=\"dataframe\">\n",
       "  <thead>\n",
       "    <tr style=\"text-align: right;\">\n",
       "      <th></th>\n",
       "      <th>TOKEN</th>\n",
       "      <th>NE-COARSE-LIT</th>\n",
       "      <th>NE-COARSE-METO</th>\n",
       "      <th>NE-FINE-LIT</th>\n",
       "      <th>NE-FINE-METO</th>\n",
       "      <th>NE-FINE-COMP</th>\n",
       "      <th>NE-NESTED</th>\n",
       "      <th>NEL-LIT</th>\n",
       "      <th>NEL-METO</th>\n",
       "      <th>MISC</th>\n",
       "    </tr>\n",
       "  </thead>\n",
       "  <tbody>\n",
       "    <tr>\n",
       "      <td>1627</td>\n",
       "      <td>¬</td>\n",
       "      <td>I-loc</td>\n",
       "      <td>O</td>\n",
       "      <td>NaN</td>\n",
       "      <td>NaN</td>\n",
       "      <td>NaN</td>\n",
       "      <td>NaN</td>\n",
       "      <td>Q30</td>\n",
       "      <td>NaN</td>\n",
       "      <td>EndOfLine</td>\n",
       "    </tr>\n",
       "    <tr>\n",
       "      <td>2505</td>\n",
       "      <td>¬</td>\n",
       "      <td>I-loc</td>\n",
       "      <td>O</td>\n",
       "      <td>NaN</td>\n",
       "      <td>NaN</td>\n",
       "      <td>NaN</td>\n",
       "      <td>NaN</td>\n",
       "      <td>NIL</td>\n",
       "      <td>NaN</td>\n",
       "      <td>EndOfLine</td>\n",
       "    </tr>\n",
       "    <tr>\n",
       "      <td>2865</td>\n",
       "      <td>¬</td>\n",
       "      <td>I-pers</td>\n",
       "      <td>O</td>\n",
       "      <td>NaN</td>\n",
       "      <td>NaN</td>\n",
       "      <td>NaN</td>\n",
       "      <td>NaN</td>\n",
       "      <td>Q151321</td>\n",
       "      <td>NaN</td>\n",
       "      <td>EndOfLine</td>\n",
       "    </tr>\n",
       "    <tr>\n",
       "      <td>3378</td>\n",
       "      <td>¬</td>\n",
       "      <td>I-loc</td>\n",
       "      <td>O</td>\n",
       "      <td>NaN</td>\n",
       "      <td>NaN</td>\n",
       "      <td>NaN</td>\n",
       "      <td>NaN</td>\n",
       "      <td>Q18383</td>\n",
       "      <td>NaN</td>\n",
       "      <td>EndOfLine</td>\n",
       "    </tr>\n",
       "    <tr>\n",
       "      <td>3587</td>\n",
       "      <td>¬</td>\n",
       "      <td>I-pers</td>\n",
       "      <td>O</td>\n",
       "      <td>NaN</td>\n",
       "      <td>NaN</td>\n",
       "      <td>NaN</td>\n",
       "      <td>NaN</td>\n",
       "      <td>Q550690</td>\n",
       "      <td>NaN</td>\n",
       "      <td>EndOfLine</td>\n",
       "    </tr>\n",
       "    <tr>\n",
       "      <td>...</td>\n",
       "      <td>...</td>\n",
       "      <td>...</td>\n",
       "      <td>...</td>\n",
       "      <td>...</td>\n",
       "      <td>...</td>\n",
       "      <td>...</td>\n",
       "      <td>...</td>\n",
       "      <td>...</td>\n",
       "      <td>...</td>\n",
       "      <td>...</td>\n",
       "    </tr>\n",
       "    <tr>\n",
       "      <td>26918</td>\n",
       "      <td>¬</td>\n",
       "      <td>I-pers</td>\n",
       "      <td>O</td>\n",
       "      <td>NaN</td>\n",
       "      <td>NaN</td>\n",
       "      <td>NaN</td>\n",
       "      <td>NaN</td>\n",
       "      <td>Q30088046</td>\n",
       "      <td>NaN</td>\n",
       "      <td>EndOfLine</td>\n",
       "    </tr>\n",
       "    <tr>\n",
       "      <td>27295</td>\n",
       "      <td>¬</td>\n",
       "      <td>I-loc</td>\n",
       "      <td>O</td>\n",
       "      <td>NaN</td>\n",
       "      <td>NaN</td>\n",
       "      <td>NaN</td>\n",
       "      <td>NaN</td>\n",
       "      <td>Q59174</td>\n",
       "      <td>NaN</td>\n",
       "      <td>EndOfLine</td>\n",
       "    </tr>\n",
       "    <tr>\n",
       "      <td>27788</td>\n",
       "      <td>¬</td>\n",
       "      <td>I-loc</td>\n",
       "      <td>O</td>\n",
       "      <td>NaN</td>\n",
       "      <td>NaN</td>\n",
       "      <td>NaN</td>\n",
       "      <td>NaN</td>\n",
       "      <td>Q2168889</td>\n",
       "      <td>NaN</td>\n",
       "      <td>EndOfLine</td>\n",
       "    </tr>\n",
       "    <tr>\n",
       "      <td>28670</td>\n",
       "      <td>¬</td>\n",
       "      <td>I-org</td>\n",
       "      <td>O</td>\n",
       "      <td>NaN</td>\n",
       "      <td>NaN</td>\n",
       "      <td>NaN</td>\n",
       "      <td>NaN</td>\n",
       "      <td>NIL</td>\n",
       "      <td>NaN</td>\n",
       "      <td>EndOfLine</td>\n",
       "    </tr>\n",
       "    <tr>\n",
       "      <td>28676</td>\n",
       "      <td>¬</td>\n",
       "      <td>I-loc</td>\n",
       "      <td>I-loc</td>\n",
       "      <td>NaN</td>\n",
       "      <td>NaN</td>\n",
       "      <td>NaN</td>\n",
       "      <td>NaN</td>\n",
       "      <td>Q49231</td>\n",
       "      <td>Q1627684</td>\n",
       "      <td>EndOfLine</td>\n",
       "    </tr>\n",
       "  </tbody>\n",
       "</table>\n",
       "<p>65 rows × 10 columns</p>\n",
       "</div>"
      ],
      "text/plain": [
       "      TOKEN NE-COARSE-LIT NE-COARSE-METO  NE-FINE-LIT  NE-FINE-METO  \\\n",
       "1627      ¬         I-loc              O          NaN           NaN   \n",
       "2505      ¬         I-loc              O          NaN           NaN   \n",
       "2865      ¬        I-pers              O          NaN           NaN   \n",
       "3378      ¬         I-loc              O          NaN           NaN   \n",
       "3587      ¬        I-pers              O          NaN           NaN   \n",
       "...     ...           ...            ...          ...           ...   \n",
       "26918     ¬        I-pers              O          NaN           NaN   \n",
       "27295     ¬         I-loc              O          NaN           NaN   \n",
       "27788     ¬         I-loc              O          NaN           NaN   \n",
       "28670     ¬         I-org              O          NaN           NaN   \n",
       "28676     ¬         I-loc          I-loc          NaN           NaN   \n",
       "\n",
       "       NE-FINE-COMP  NE-NESTED    NEL-LIT  NEL-METO       MISC  \n",
       "1627            NaN        NaN        Q30       NaN  EndOfLine  \n",
       "2505            NaN        NaN        NIL       NaN  EndOfLine  \n",
       "2865            NaN        NaN    Q151321       NaN  EndOfLine  \n",
       "3378            NaN        NaN     Q18383       NaN  EndOfLine  \n",
       "3587            NaN        NaN    Q550690       NaN  EndOfLine  \n",
       "...             ...        ...        ...       ...        ...  \n",
       "26918           NaN        NaN  Q30088046       NaN  EndOfLine  \n",
       "27295           NaN        NaN     Q59174       NaN  EndOfLine  \n",
       "27788           NaN        NaN   Q2168889       NaN  EndOfLine  \n",
       "28670           NaN        NaN        NIL       NaN  EndOfLine  \n",
       "28676           NaN        NaN     Q49231  Q1627684  EndOfLine  \n",
       "\n",
       "[65 rows x 10 columns]"
      ]
     },
     "execution_count": 91,
     "metadata": {},
     "output_type": "execute_result"
    }
   ],
   "source": [
    "test_NE[test_NE[\"TOKEN\"] == \"¬\"]"
   ]
  },
  {
   "cell_type": "code",
   "execution_count": 53,
   "metadata": {},
   "outputs": [
    {
     "data": {
      "text/plain": [
       ",           1654\n",
       "the         1620\n",
       ".           1343\n",
       "of          1076\n",
       "and          737\n",
       "            ... \n",
       "reftored       1\n",
       "ticulars       1\n",
       "face           1\n",
       "$000,0         1\n",
       "bucket         1\n",
       "Name: TOKEN, Length: 6392, dtype: int64"
      ]
     },
     "execution_count": 53,
     "metadata": {},
     "output_type": "execute_result"
    }
   ],
   "source": [
    "data = test_dataframe[\"TOKEN\"].value_counts()\n",
    "test = data.to_dict()\n",
    "data"
   ]
  },
  {
   "cell_type": "code",
   "execution_count": 85,
   "metadata": {},
   "outputs": [
    {
     "name": "stdout",
     "output_type": "stream",
     "text": [
      "97\n",
      "72\n"
     ]
    },
    {
     "data": {
      "text/plain": [
       ".                4\n",
       "Guide            4\n",
       "¬                4\n",
       "THE              3\n",
       "Journal          3\n",
       "                ..\n",
       "3t               1\n",
       "England          1\n",
       "Land             1\n",
       "Intelligencer    1\n",
       "MAGNA            1\n",
       "Name: TOKEN, Length: 72, dtype: int64"
      ]
     },
     "execution_count": 85,
     "metadata": {},
     "output_type": "execute_result"
    }
   ],
   "source": [
    "B_prods = test_NE[\"TOKEN\"][test_NE[\"NE-COARSE-LIT\"].isin([\"B-prod\",\"I-prod\"])]\n",
    "print(len(B_prods))\n",
    "token_count = B_prods.value_counts()\n",
    "print(len(token_count))\n",
    "token_count"
   ]
  },
  {
   "cell_type": "code",
   "execution_count": 30,
   "metadata": {},
   "outputs": [
    {
     "name": "stdout",
     "output_type": "stream",
     "text": [
      "264\n"
     ]
    }
   ],
   "source": [
    "# plt.bar(test.keys(),test.values())\n",
    "# plt.show()\n",
    "test_2 = {key:val for key, val in test.items() if val > 10}\n",
    "# print(test_2)\n",
    "# print(len(test))\n",
    "print(len(test_2))"
   ]
  },
  {
   "cell_type": "code",
   "execution_count": 39,
   "metadata": {},
   "outputs": [],
   "source": [
    "# plt.figure(figsize=(50,25))\n",
    "# plt.bar([i*2 for i in range(len(test_2))],test_2.values(), width=0.5)\n",
    "# plt.xticks([i*2 for i in range(len(test_2))],test_2.keys(), rotation = 90 )\n",
    "# # plt.show()"
   ]
  },
  {
   "cell_type": "code",
   "execution_count": 130,
   "metadata": {},
   "outputs": [
    {
     "name": "stdout",
     "output_type": "stream",
     "text": [
      "men\n",
      "34\n",
      "75\n",
      "{',': 1654, 'the': 1620, '.': 1343, 'of': 1076, 'and': 737, 'to': 611, 'a': 557, '¬': 539, 'in': 520, 'is': 265, '-': 253, 'that': 214, 'for': 210, 'he': 184, 'be': 173, 'as': 171, 'was': 168, 'it': 167, 'at': 155, 'on': 150, 'by': 148, 'with': 138, 'this': 137, 'will': 127, 'from': 114, 'have': 114, '’': 111, 'his': 107, 'are': 105, 'i': 103, 'their': 102, ';': 100, 'which': 95, 's': 92, 'not': 90, 'they': 85, '*': 81, 'has': 81, '“': 77, \"'\": 77, 'you': 75, 'or': 74, 'an': 74, 'one': 67, 'all': 66, '”': 65, 'we': 62, 'been': 61, 'but': 59, 'no': 55, 'who': 51, 'our': 47, 'than': 47, 'were': 47, 'other': 46, 'county': 44, '—': 44, 'them': 44, 'any': 44, 'man': 43, 'when': 43, 'made': 43, 'new': 41, 'more': 41, 'j': 39, 'can': 39, 'there': 39, 'out': 39, 'may': 38, 'day': 37, 'would': 37, ':': 36, 'its': 36, 'had': 35, 'men': 34}\n"
     ]
    }
   ],
   "source": [
    "test_sum = 0\n",
    "total = len(test_dataframe)\n",
    "token_count = 0\n",
    "token_list = dict()\n",
    "for key in test:\n",
    "    token_count += 1\n",
    "    test_sum += test[key]\n",
    "    token_list[key] = test[key]\n",
    "    if test_sum > total * 0.50:\n",
    "        print(key)\n",
    "        print(test[key])\n",
    "        print(token_count)\n",
    "        print(token_list)\n",
    "        break"
   ]
  },
  {
   "cell_type": "code",
   "execution_count": 104,
   "metadata": {},
   "outputs": [
    {
     "data": {
      "text/plain": [
       "['O',\n",
       " 'B-prod',\n",
       " 'I-prod',\n",
       " 'B-loc',\n",
       " 'I-loc',\n",
       " 'B-org',\n",
       " 'I-org',\n",
       " 'B-time',\n",
       " 'I-time',\n",
       " 'B-pers',\n",
       " 'I-pers']"
      ]
     },
     "execution_count": 104,
     "metadata": {},
     "output_type": "execute_result"
    }
   ],
   "source": [
    "NE_COARSE = test_dataframe[\"NE-COARSE-LIT\"]\n",
    "NE_list = list(pd.unique(NE_COARSE))\n",
    "NE_list"
   ]
  },
  {
   "cell_type": "code",
   "execution_count": 176,
   "metadata": {},
   "outputs": [
    {
     "data": {
      "text/plain": [
       "29059"
      ]
     },
     "execution_count": 176,
     "metadata": {},
     "output_type": "execute_result"
    }
   ],
   "source": [
    "len(test_dataframe.index)"
   ]
  },
  {
   "cell_type": "code",
   "execution_count": 185,
   "metadata": {},
   "outputs": [
    {
     "name": "stdout",
     "output_type": "stream",
     "text": [
      "0.1\n",
      "0.2\n",
      "0.3\n",
      "0.4\n",
      "0.5\n",
      "0.6\n",
      "0.7\n",
      "0.8\n",
      "0.9\n"
     ]
    }
   ],
   "source": [
    "feature_list = list(token_list)\n",
    "label_list = NE_list\n",
    "\n",
    "feature_matrix = []\n",
    "label_matrix = []\n",
    "# print(np.append(result_matrix,np.zeros(shape=(1,len(token_list))),axis=0))\n",
    "# result_matrix\n",
    "pos_dict = defaultdict(lambda: [])\n",
    "label_dict = defaultdict(lambda: [])\n",
    "pos = 0\n",
    "progress = [0.1,0.2,0.3,0.4,0.5,0.6,0.7,0.8,0.9,1]\n",
    "for idx in test_dataframe.index:\n",
    "    if idx/len(test_dataframe) > progress[0]:\n",
    "        print(progress[0])\n",
    "        progress.pop(0)\n",
    "    pos += 1\n",
    "    row = test_dataframe.iloc[idx]\n",
    "    token = row[\"TOKEN\"]\n",
    "    label = row[\"NE-COARSE-LIT\"]\n",
    "\n",
    "    label_dict[token].append((pos,label))\n",
    "    \n",
    "    if token in feature_list:\n",
    "        pos_dict[token].append(pos)\n",
    "\n",
    "    if isinstance(row[\"MISC\"], float) or \"EndOfSentence\" not in row[\"MISC\"]:\n",
    "        continue\n",
    "\n",
    "    for key in label_dict:\n",
    "        for appearance in label_dict[key]:\n",
    "            pos = appearance[0]\n",
    "            label_vector = np.zeros(shape=(len(label_list)))\n",
    "            label_vector[label_list.index(appearance[1])] = 1\n",
    "            feature_vector = np.zeros(shape=(len(feature_list)))\n",
    "            for feature in pos_dict:\n",
    "                nearest_pos = 100 # I assume there is no feature farther than 100 tokens away from current token in a sentance\n",
    "                for temp_pos in pos_dict[feature]:\n",
    "                    relative_pos = temp_pos - pos\n",
    "                    if abs(relative_pos) < nearest_pos:\n",
    "                        nearest_pos = relative_pos\n",
    "                    else:\n",
    "                        continue\n",
    "                feature_vector[feature_list.index(feature)] = nearest_pos\n",
    "            feature_matrix.append(feature_vector)\n",
    "            label_matrix.append(label_vector)           \n",
    "    pos_dict = defaultdict(lambda: [])\n",
    "    label_dict = defaultdict(lambda: [])\n",
    "    pos = 0\n",
    "            \n",
    "feature_matrix = np.array(feature_matrix)\n",
    "label_matrix = np.array(label_matrix)"
   ]
  },
  {
   "cell_type": "code",
   "execution_count": 186,
   "metadata": {},
   "outputs": [
    {
     "name": "stdout",
     "output_type": "stream",
     "text": [
      "[[  0.   1.   4. ...   0.   0.   0.]\n",
      " [  0.   0.   3. ...   0.   0.   0.]\n",
      " [  0.  -1.   2. ...   0.   0.   0.]\n",
      " ...\n",
      " [-58. -23. -86. ...   0. -13.   0.]\n",
      " [-59. -24. -87. ...   0. -14.   0.]\n",
      " [-60. -25. -88. ...   0. -15.   0.]]\n",
      "29059\n"
     ]
    }
   ],
   "source": [
    "print(feature_matrix)\n",
    "print(len(feature_matrix))"
   ]
  },
  {
   "cell_type": "code",
   "execution_count": 187,
   "metadata": {},
   "outputs": [
    {
     "name": "stdout",
     "output_type": "stream",
     "text": [
      "[[1. 0. 0. ... 0. 0. 0.]\n",
      " [1. 0. 0. ... 0. 0. 0.]\n",
      " [0. 1. 0. ... 0. 0. 0.]\n",
      " ...\n",
      " [1. 0. 0. ... 0. 0. 0.]\n",
      " [1. 0. 0. ... 0. 0. 0.]\n",
      " [1. 0. 0. ... 0. 0. 0.]]\n"
     ]
    }
   ],
   "source": [
    "print(label_matrix)"
   ]
  },
  {
   "cell_type": "code",
   "execution_count": 200,
   "metadata": {},
   "outputs": [],
   "source": [
    "training_data = feature_matrix[0:int(len(feature_matrix)*0.8)]\n",
    "test_data = feature_matrix[int(len(feature_matrix)*0.8):]\n",
    "training_labels = label_matrix[0:int(len(feature_matrix)*0.8)]\n",
    "test_labels = label_matrix[int(len(feature_matrix)*0.8):]"
   ]
  },
  {
   "cell_type": "code",
   "execution_count": 207,
   "metadata": {},
   "outputs": [
    {
     "data": {
      "text/plain": [
       "DecisionTreeClassifier()"
      ]
     },
     "execution_count": 207,
     "metadata": {},
     "output_type": "execute_result"
    }
   ],
   "source": [
    "from sklearn import tree\n",
    "\n",
    "clf = tree.DecisionTreeClassifier()\n",
    "clf.fit(training_data,training_labels)"
   ]
  },
  {
   "cell_type": "code",
   "execution_count": 206,
   "metadata": {},
   "outputs": [
    {
     "name": "stdout",
     "output_type": "stream",
     "text": [
      "[[1. 0. 0. 0. 0. 0. 0. 0. 0. 0. 0.]]\n",
      "[1. 0. 0. 0. 0. 0. 0. 0. 0. 0. 0.]\n"
     ]
    }
   ],
   "source": [
    "tp = 0\n",
    "fp = 0\n",
    "fn = 0\n",
    "tn = 0\n",
    "total = len(test_data)\n",
    "prediction = clf.predict(test_data)\n",
    "\n",
    "for i, pred in enumerate(prediction):\n",
    "    correct_idx = test_labels[i].index(1)\n",
    "    if pred[correct_idx] == 1:\n",
    "        tp += 1\n",
    "    "
   ]
  }
 ],
 "metadata": {
  "interpreter": {
   "hash": "4250911d2b3ffcb2054f87e42a3a6089eaae8b933539b8802bf5d913528eac18"
  },
  "kernelspec": {
   "display_name": "Python 3.9.5 64-bit",
   "language": "python",
   "name": "python3"
  },
  "language_info": {
   "codemirror_mode": {
    "name": "ipython",
    "version": 3
   },
   "file_extension": ".py",
   "mimetype": "text/x-python",
   "name": "python",
   "nbconvert_exporter": "python",
   "pygments_lexer": "ipython3",
   "version": "3.7.4"
  },
  "orig_nbformat": 4
 },
 "nbformat": 4,
 "nbformat_minor": 2
}
