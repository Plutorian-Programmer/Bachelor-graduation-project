{
 "cells": [
  {
   "cell_type": "code",
   "execution_count": 66,
   "metadata": {},
   "outputs": [],
   "source": [
    "%matplotlib inline\n",
    "import matplotlib.pyplot as plt\n",
    "plt.style.use('ggplot')"
   ]
  },
  {
   "cell_type": "code",
   "execution_count": 67,
   "metadata": {},
   "outputs": [],
   "source": [
    "from itertools import chain\n",
    "\n",
    "import nltk\n",
    "import sklearn\n",
    "import scipy.stats\n",
    "from sklearn.metrics import make_scorer\n",
    "from sklearn.model_selection import cross_val_score\n",
    "from sklearn.model_selection import RandomizedSearchCV\n",
    "\n",
    "import sklearn_crfsuite\n",
    "from sklearn_crfsuite import scorers\n",
    "from sklearn_crfsuite import metrics\n",
    "\n",
    "import numpy as np\n",
    "import matplotlib.pyplot as plt\n",
    "import pandas as pd\n",
    "datapath = \"../data/data/v2.0/\"\n",
    "import csv\n",
    "from collections import defaultdict\n",
    "import seaborn as sn\n",
    "from numpy.random import default_rng"
   ]
  },
  {
   "cell_type": "code",
   "execution_count": 68,
   "metadata": {},
   "outputs": [],
   "source": [
    "maxInt = sys.maxsize\n",
    "\n",
    "while True:\n",
    "    # decrease the maxInt value by factor 10 \n",
    "    # as long as the OverflowError occurs.\n",
    "\n",
    "    try:\n",
    "        csv.field_size_limit(maxInt)\n",
    "        break\n",
    "    except OverflowError:\n",
    "        maxInt = int(maxInt/10)"
   ]
  },
  {
   "cell_type": "code",
   "execution_count": 69,
   "metadata": {},
   "outputs": [],
   "source": [
    "english_dataframe = pd.read_csv(datapath+\"hipe2020/en/HIPE-2022-v2.0-hipe2020-dev-en.tsv\", sep = '\\t', header = 0, engine=\"python\", comment='#', quoting=csv.QUOTE_NONE)\n",
    "# english_dataframe = pd.read_csv(datapath+\"hipe2020/fr/HIPE-2022-v2.0-hipe2020-dev-fr.tsv\", sep = '\\t', header = 0, engine=\"python\", comment='#', quoting=csv.QUOTE_NONE)\n",
    "# english_dataframe = pd.read_csv(datapath+\"hipe2020/de/HIPE-2022-v2.0-hipe2020-dev-de.tsv\", sep = '\\t', header = 0, engine=\"python\", comment='#', quoting=csv.QUOTE_NONE)"
   ]
  },
  {
   "cell_type": "code",
   "execution_count": 99,
   "metadata": {},
   "outputs": [],
   "source": [
    "misc_list = english_dataframe[\"MISC\"].to_list()"
   ]
  },
  {
   "cell_type": "code",
   "execution_count": 100,
   "metadata": {},
   "outputs": [],
   "source": [
    "tokens = english_dataframe[\"TOKEN\"].tolist()\n",
    "labels = english_dataframe[\"NE-COARSE-LIT\"].tolist()"
   ]
  },
  {
   "cell_type": "code",
   "execution_count": 101,
   "metadata": {},
   "outputs": [
    {
     "name": "stdout",
     "output_type": "stream",
     "text": [
      "32671\n",
      "32671\n",
      "32671\n"
     ]
    }
   ],
   "source": [
    "print(len(misc_list))\n",
    "print(len(tokens))\n",
    "print(len(labels))"
   ]
  },
  {
   "cell_type": "code",
   "execution_count": 102,
   "metadata": {},
   "outputs": [],
   "source": [
    "data_sents = []\n",
    "sentence = []\n",
    "for idx, item in enumerate(misc_list):\n",
    "    token = tokens[idx]\n",
    "    if isinstance(token, float): #null in the tsv is taken as a nan value\n",
    "        token = \"null\"\n",
    "    label = labels[idx]\n",
    "    sentence.append((token,label))\n",
    "    if \"EndOfSentence\" in item:\n",
    "        data_sents.append(sentence)\n",
    "        sentence = []\n",
    "data_sents = np.array(data_sents, dtype=object)"
   ]
  },
  {
   "cell_type": "code",
   "execution_count": 103,
   "metadata": {},
   "outputs": [
    {
     "name": "stdout",
     "output_type": "stream",
     "text": [
      "Wall time: 69.8 ms\n"
     ]
    },
    {
     "name": "stderr",
     "output_type": "stream",
     "text": [
      "c:\\Users\\karst\\Anaconda3\\lib\\site-packages\\ipykernel_launcher.py:3: FutureWarning: elementwise comparison failed; returning scalar instead, but in the future will perform elementwise comparison\n",
      "  This is separate from the ipykernel package so we can avoid doing imports until\n"
     ]
    }
   ],
   "source": [
    "%%time\n",
    "split = 0.3\n",
    "train_sents = np.random.choice(data_sents, size=int(len(data_sents)*split), replace=False)\n",
    "test_sents = [sent for sent in data_sents if sent not in train_sents]"
   ]
  },
  {
   "cell_type": "code",
   "execution_count": 104,
   "metadata": {},
   "outputs": [
    {
     "data": {
      "text/plain": [
       "[('ehende', 'O'), ('lant', 'O'), ('.', 'O')]"
      ]
     },
     "execution_count": 104,
     "metadata": {},
     "output_type": "execute_result"
    }
   ],
   "source": [
    "train_sents[0]"
   ]
  },
  {
   "cell_type": "code",
   "execution_count": 105,
   "metadata": {},
   "outputs": [],
   "source": [
    "def word2features(sent, i):\n",
    "    word = sent[i][0]\n",
    "\n",
    "    features = {\n",
    "        'bias': 1.0,\n",
    "        'word.lower()': word.lower(),\n",
    "        'word[-3:]': word[-3:],\n",
    "        'word[-2:]': word[-2:],\n",
    "        'word.isupper()': word.isupper(),\n",
    "        'word.istitle()': word.istitle(),\n",
    "        'word contains number': any(char.isdigit() for char in word),\n",
    "        \"word contains symbol\": not word.isalpha(),\n",
    "    }\n",
    "    if i > 0:\n",
    "        word1 = sent[i-1][0]\n",
    "        features.update({\n",
    "            '-1:word.lower()': word1.lower(),\n",
    "            '-1:word.istitle()': word1.istitle(),\n",
    "            '-1:word.isupper()': word1.isupper(),\n",
    "        })\n",
    "    else:\n",
    "        features['BOS'] = True\n",
    "\n",
    "    if i < len(sent)-1:\n",
    "        word1 = sent[i+1][0]\n",
    "        features.update({\n",
    "            '+1:word.lower()': word1.lower(),\n",
    "            '+1:word.istitle()': word1.istitle(),\n",
    "            '+1:word.isupper()': word1.isupper(),\n",
    "        })\n",
    "    else:\n",
    "        features['EOS'] = True\n",
    "\n",
    "    return features\n",
    "\n",
    "\n",
    "def sent2features(sent):\n",
    "    return [word2features(sent, i) for i in range(len(sent))]\n",
    "\n",
    "def sent2labels(sent):\n",
    "    return [label for token, label in sent]\n",
    "\n",
    "def sent2tokens(sent):\n",
    "    return [token for token, label in sent]"
   ]
  },
  {
   "cell_type": "code",
   "execution_count": 106,
   "metadata": {},
   "outputs": [
    {
     "data": {
      "text/plain": [
       "{'bias': 1.0,\n",
       " 'word.lower()': 'ehende',\n",
       " 'word[-3:]': 'nde',\n",
       " 'word[-2:]': 'de',\n",
       " 'word.isupper()': False,\n",
       " 'word.istitle()': False,\n",
       " 'word contains number': False,\n",
       " 'word contains symbol': False,\n",
       " 'BOS': True,\n",
       " '+1:word.lower()': 'lant',\n",
       " '+1:word.istitle()': False,\n",
       " '+1:word.isupper()': False}"
      ]
     },
     "execution_count": 106,
     "metadata": {},
     "output_type": "execute_result"
    }
   ],
   "source": [
    "sent2features(train_sents[0])[0]\n",
    "# print(train_sents[0])"
   ]
  },
  {
   "cell_type": "code",
   "execution_count": 107,
   "metadata": {},
   "outputs": [
    {
     "name": "stdout",
     "output_type": "stream",
     "text": [
      "Wall time: 136 ms\n"
     ]
    }
   ],
   "source": [
    "%%time\n",
    "X_train = [sent2features(s) for s in train_sents]\n",
    "y_train = [sent2labels(s) for s in train_sents]\n",
    "\n",
    "X_test = [sent2features(s) for s in test_sents]\n",
    "y_test = [sent2labels(s) for s in test_sents]"
   ]
  },
  {
   "cell_type": "code",
   "execution_count": 108,
   "metadata": {},
   "outputs": [
    {
     "name": "stdout",
     "output_type": "stream",
     "text": [
      "Wall time: 1.52 s\n"
     ]
    }
   ],
   "source": [
    "%%time\n",
    "crf = sklearn_crfsuite.CRF(\n",
    "    algorithm='lbfgs',\n",
    "    c1=0.1,\n",
    "    c2=0.1,\n",
    "    max_iterations=100,\n",
    "    all_possible_transitions=True\n",
    ")\n",
    "try:\n",
    "    crf.fit(X_train, y_train)\n",
    "except AttributeError:\n",
    "    pass\n",
    "predictions = crf.predict(X_test)"
   ]
  },
  {
   "cell_type": "code",
   "execution_count": 109,
   "metadata": {},
   "outputs": [
    {
     "data": {
      "text/plain": [
       "['B-loc',\n",
       " 'I-loc',\n",
       " 'B-pers',\n",
       " 'I-pers',\n",
       " 'B-prod',\n",
       " 'I-prod',\n",
       " 'B-org',\n",
       " 'I-org',\n",
       " 'B-time',\n",
       " 'I-time']"
      ]
     },
     "execution_count": 109,
     "metadata": {},
     "output_type": "execute_result"
    }
   ],
   "source": [
    "labels = list(crf.classes_)\n",
    "labels.remove('O')\n",
    "labels"
   ]
  },
  {
   "cell_type": "code",
   "execution_count": 110,
   "metadata": {},
   "outputs": [
    {
     "name": "stdout",
     "output_type": "stream",
     "text": [
      "f1: 0.6020351911305483\n",
      "p: 0.8806609689459702\n",
      "r: 0.4654340836012862\n"
     ]
    }
   ],
   "source": [
    "y_pred = crf.predict(X_test)\n",
    "f_1 = metrics.flat_f1_score(y_test, y_pred,\n",
    "                      average='weighted', labels=labels)\n",
    "precision = metrics.flat_precision_score(y_test, y_pred,\n",
    "                      average='weighted', labels=labels)\n",
    "recall = metrics.flat_recall_score(y_test, y_pred,\n",
    "                      average='weighted', labels=labels)\n",
    "\n",
    "print(f\"f1: {f_1}\")\n",
    "print(f\"p: {precision}\")\n",
    "print(f\"r: {recall}\")"
   ]
  },
  {
   "cell_type": "code",
   "execution_count": 111,
   "metadata": {},
   "outputs": [
    {
     "name": "stdout",
     "output_type": "stream",
     "text": [
      "test itter 0, prob itter: 0, prob: 0.1\n"
     ]
    },
    {
     "name": "stderr",
     "output_type": "stream",
     "text": [
      "c:\\Users\\karst\\Anaconda3\\lib\\site-packages\\ipykernel_launcher.py:7: FutureWarning: elementwise comparison failed; returning scalar instead, but in the future will perform elementwise comparison\n",
      "  import sys\n"
     ]
    },
    {
     "name": "stdout",
     "output_type": "stream",
     "text": [
      "test itter 0, prob itter: 1, prob: 0.1\n",
      "test itter 0, prob itter: 2, prob: 0.1\n",
      "test itter 0, prob itter: 3, prob: 0.1\n",
      "test itter 0, prob itter: 4, prob: 0.1\n",
      "test itter 0, prob itter: 5, prob: 0.1\n",
      "test itter 0, prob itter: 6, prob: 0.1\n",
      "test itter 0, prob itter: 7, prob: 0.1\n",
      "test itter 0, prob itter: 8, prob: 0.1\n",
      "test itter 0, prob itter: 9, prob: 0.1\n",
      "test itter 0, prob itter: 0, prob: 0.2\n",
      "test itter 0, prob itter: 1, prob: 0.2\n",
      "test itter 0, prob itter: 2, prob: 0.2\n",
      "test itter 0, prob itter: 3, prob: 0.2\n",
      "test itter 0, prob itter: 4, prob: 0.2\n",
      "test itter 0, prob itter: 5, prob: 0.2\n",
      "test itter 0, prob itter: 6, prob: 0.2\n",
      "test itter 0, prob itter: 7, prob: 0.2\n",
      "test itter 0, prob itter: 8, prob: 0.2\n",
      "test itter 0, prob itter: 9, prob: 0.2\n",
      "test itter 0, prob itter: 0, prob: 0.3\n",
      "test itter 0, prob itter: 1, prob: 0.3\n",
      "test itter 0, prob itter: 2, prob: 0.3\n",
      "test itter 0, prob itter: 3, prob: 0.3\n",
      "test itter 0, prob itter: 4, prob: 0.3\n",
      "test itter 0, prob itter: 5, prob: 0.3\n",
      "test itter 0, prob itter: 6, prob: 0.3\n",
      "test itter 0, prob itter: 7, prob: 0.3\n",
      "test itter 0, prob itter: 8, prob: 0.3\n",
      "test itter 0, prob itter: 9, prob: 0.3\n",
      "test itter 0, prob itter: 0, prob: 0.4\n",
      "test itter 0, prob itter: 1, prob: 0.4\n",
      "test itter 0, prob itter: 2, prob: 0.4\n",
      "test itter 0, prob itter: 3, prob: 0.4\n",
      "test itter 0, prob itter: 4, prob: 0.4\n",
      "test itter 0, prob itter: 5, prob: 0.4\n",
      "test itter 0, prob itter: 6, prob: 0.4\n",
      "test itter 0, prob itter: 7, prob: 0.4\n",
      "test itter 0, prob itter: 8, prob: 0.4\n",
      "test itter 0, prob itter: 9, prob: 0.4\n",
      "test itter 0, prob itter: 0, prob: 0.5\n",
      "test itter 0, prob itter: 1, prob: 0.5\n",
      "test itter 0, prob itter: 2, prob: 0.5\n",
      "test itter 0, prob itter: 3, prob: 0.5\n",
      "test itter 0, prob itter: 4, prob: 0.5\n",
      "test itter 0, prob itter: 5, prob: 0.5\n",
      "test itter 0, prob itter: 6, prob: 0.5\n",
      "test itter 0, prob itter: 7, prob: 0.5\n",
      "test itter 0, prob itter: 8, prob: 0.5\n",
      "test itter 0, prob itter: 9, prob: 0.5\n",
      "test itter 0, prob itter: 0, prob: 0.6000000000000001\n",
      "test itter 0, prob itter: 1, prob: 0.6000000000000001\n",
      "test itter 0, prob itter: 2, prob: 0.6000000000000001\n",
      "test itter 0, prob itter: 3, prob: 0.6000000000000001\n",
      "test itter 0, prob itter: 4, prob: 0.6000000000000001\n",
      "test itter 0, prob itter: 5, prob: 0.6000000000000001\n",
      "test itter 0, prob itter: 6, prob: 0.6000000000000001\n",
      "test itter 0, prob itter: 7, prob: 0.6000000000000001\n",
      "test itter 0, prob itter: 8, prob: 0.6000000000000001\n",
      "test itter 0, prob itter: 9, prob: 0.6000000000000001\n",
      "test itter 0, prob itter: 0, prob: 0.7\n",
      "test itter 0, prob itter: 1, prob: 0.7\n",
      "test itter 0, prob itter: 2, prob: 0.7\n",
      "test itter 0, prob itter: 3, prob: 0.7\n",
      "test itter 0, prob itter: 4, prob: 0.7\n",
      "test itter 0, prob itter: 5, prob: 0.7\n",
      "test itter 0, prob itter: 6, prob: 0.7\n",
      "test itter 0, prob itter: 7, prob: 0.7\n",
      "test itter 0, prob itter: 8, prob: 0.7\n",
      "test itter 0, prob itter: 9, prob: 0.7\n",
      "test itter 0, prob itter: 0, prob: 0.8\n",
      "test itter 0, prob itter: 1, prob: 0.8\n",
      "test itter 0, prob itter: 2, prob: 0.8\n",
      "test itter 0, prob itter: 3, prob: 0.8\n",
      "test itter 0, prob itter: 4, prob: 0.8\n",
      "test itter 0, prob itter: 5, prob: 0.8\n",
      "test itter 0, prob itter: 6, prob: 0.8\n",
      "test itter 0, prob itter: 7, prob: 0.8\n",
      "test itter 0, prob itter: 8, prob: 0.8\n",
      "test itter 0, prob itter: 9, prob: 0.8\n",
      "test itter 0, prob itter: 0, prob: 0.9\n",
      "test itter 0, prob itter: 1, prob: 0.9\n",
      "test itter 0, prob itter: 2, prob: 0.9\n",
      "test itter 0, prob itter: 3, prob: 0.9\n",
      "test itter 0, prob itter: 4, prob: 0.9\n",
      "test itter 0, prob itter: 5, prob: 0.9\n",
      "test itter 0, prob itter: 6, prob: 0.9\n",
      "test itter 0, prob itter: 7, prob: 0.9\n",
      "test itter 0, prob itter: 8, prob: 0.9\n",
      "test itter 0, prob itter: 9, prob: 0.9\n"
     ]
    },
    {
     "name": "stderr",
     "output_type": "stream",
     "text": [
      "c:\\Users\\karst\\Anaconda3\\lib\\site-packages\\ipykernel_launcher.py:7: FutureWarning: elementwise comparison failed; returning scalar instead, but in the future will perform elementwise comparison\n",
      "  import sys\n"
     ]
    },
    {
     "name": "stdout",
     "output_type": "stream",
     "text": [
      "test itter 1, prob itter: 0, prob: 0.1\n",
      "test itter 1, prob itter: 1, prob: 0.1\n",
      "test itter 1, prob itter: 2, prob: 0.1\n",
      "test itter 1, prob itter: 3, prob: 0.1\n",
      "test itter 1, prob itter: 4, prob: 0.1\n",
      "test itter 1, prob itter: 5, prob: 0.1\n",
      "test itter 1, prob itter: 6, prob: 0.1\n",
      "test itter 1, prob itter: 7, prob: 0.1\n",
      "test itter 1, prob itter: 8, prob: 0.1\n",
      "test itter 1, prob itter: 9, prob: 0.1\n",
      "test itter 1, prob itter: 0, prob: 0.2\n",
      "test itter 1, prob itter: 1, prob: 0.2\n",
      "test itter 1, prob itter: 2, prob: 0.2\n",
      "test itter 1, prob itter: 3, prob: 0.2\n",
      "test itter 1, prob itter: 4, prob: 0.2\n",
      "test itter 1, prob itter: 5, prob: 0.2\n",
      "test itter 1, prob itter: 6, prob: 0.2\n",
      "test itter 1, prob itter: 7, prob: 0.2\n",
      "test itter 1, prob itter: 8, prob: 0.2\n",
      "test itter 1, prob itter: 9, prob: 0.2\n",
      "test itter 1, prob itter: 0, prob: 0.3\n",
      "test itter 1, prob itter: 1, prob: 0.3\n",
      "test itter 1, prob itter: 2, prob: 0.3\n",
      "test itter 1, prob itter: 3, prob: 0.3\n",
      "test itter 1, prob itter: 4, prob: 0.3\n",
      "test itter 1, prob itter: 5, prob: 0.3\n",
      "test itter 1, prob itter: 6, prob: 0.3\n",
      "test itter 1, prob itter: 7, prob: 0.3\n",
      "test itter 1, prob itter: 8, prob: 0.3\n",
      "test itter 1, prob itter: 9, prob: 0.3\n",
      "test itter 1, prob itter: 0, prob: 0.4\n",
      "test itter 1, prob itter: 1, prob: 0.4\n",
      "test itter 1, prob itter: 2, prob: 0.4\n",
      "test itter 1, prob itter: 3, prob: 0.4\n",
      "test itter 1, prob itter: 4, prob: 0.4\n",
      "test itter 1, prob itter: 5, prob: 0.4\n",
      "test itter 1, prob itter: 6, prob: 0.4\n",
      "test itter 1, prob itter: 7, prob: 0.4\n",
      "test itter 1, prob itter: 8, prob: 0.4\n",
      "test itter 1, prob itter: 9, prob: 0.4\n",
      "test itter 1, prob itter: 0, prob: 0.5\n",
      "test itter 1, prob itter: 1, prob: 0.5\n",
      "test itter 1, prob itter: 2, prob: 0.5\n",
      "test itter 1, prob itter: 3, prob: 0.5\n",
      "test itter 1, prob itter: 4, prob: 0.5\n",
      "test itter 1, prob itter: 5, prob: 0.5\n",
      "test itter 1, prob itter: 6, prob: 0.5\n",
      "test itter 1, prob itter: 7, prob: 0.5\n",
      "test itter 1, prob itter: 8, prob: 0.5\n",
      "test itter 1, prob itter: 9, prob: 0.5\n",
      "test itter 1, prob itter: 0, prob: 0.6000000000000001\n",
      "test itter 1, prob itter: 1, prob: 0.6000000000000001\n",
      "test itter 1, prob itter: 2, prob: 0.6000000000000001\n",
      "test itter 1, prob itter: 3, prob: 0.6000000000000001\n",
      "test itter 1, prob itter: 4, prob: 0.6000000000000001\n",
      "test itter 1, prob itter: 5, prob: 0.6000000000000001\n",
      "test itter 1, prob itter: 6, prob: 0.6000000000000001\n",
      "test itter 1, prob itter: 7, prob: 0.6000000000000001\n",
      "test itter 1, prob itter: 8, prob: 0.6000000000000001\n",
      "test itter 1, prob itter: 9, prob: 0.6000000000000001\n",
      "test itter 1, prob itter: 0, prob: 0.7\n",
      "test itter 1, prob itter: 1, prob: 0.7\n",
      "test itter 1, prob itter: 2, prob: 0.7\n",
      "test itter 1, prob itter: 3, prob: 0.7\n",
      "test itter 1, prob itter: 4, prob: 0.7\n",
      "test itter 1, prob itter: 5, prob: 0.7\n",
      "test itter 1, prob itter: 6, prob: 0.7\n",
      "test itter 1, prob itter: 7, prob: 0.7\n",
      "test itter 1, prob itter: 8, prob: 0.7\n",
      "test itter 1, prob itter: 9, prob: 0.7\n",
      "test itter 1, prob itter: 0, prob: 0.8\n",
      "test itter 1, prob itter: 1, prob: 0.8\n",
      "test itter 1, prob itter: 2, prob: 0.8\n",
      "test itter 1, prob itter: 3, prob: 0.8\n",
      "test itter 1, prob itter: 4, prob: 0.8\n",
      "test itter 1, prob itter: 5, prob: 0.8\n",
      "test itter 1, prob itter: 6, prob: 0.8\n",
      "test itter 1, prob itter: 7, prob: 0.8\n",
      "test itter 1, prob itter: 8, prob: 0.8\n",
      "test itter 1, prob itter: 9, prob: 0.8\n",
      "test itter 1, prob itter: 0, prob: 0.9\n",
      "test itter 1, prob itter: 1, prob: 0.9\n",
      "test itter 1, prob itter: 2, prob: 0.9\n",
      "test itter 1, prob itter: 3, prob: 0.9\n",
      "test itter 1, prob itter: 4, prob: 0.9\n",
      "test itter 1, prob itter: 5, prob: 0.9\n",
      "test itter 1, prob itter: 6, prob: 0.9\n",
      "test itter 1, prob itter: 7, prob: 0.9\n",
      "test itter 1, prob itter: 8, prob: 0.9\n",
      "test itter 1, prob itter: 9, prob: 0.9\n"
     ]
    },
    {
     "name": "stderr",
     "output_type": "stream",
     "text": [
      "c:\\Users\\karst\\Anaconda3\\lib\\site-packages\\ipykernel_launcher.py:7: FutureWarning: elementwise comparison failed; returning scalar instead, but in the future will perform elementwise comparison\n",
      "  import sys\n"
     ]
    },
    {
     "name": "stdout",
     "output_type": "stream",
     "text": [
      "test itter 2, prob itter: 0, prob: 0.1\n",
      "test itter 2, prob itter: 1, prob: 0.1\n",
      "test itter 2, prob itter: 2, prob: 0.1\n",
      "test itter 2, prob itter: 3, prob: 0.1\n",
      "test itter 2, prob itter: 4, prob: 0.1\n",
      "test itter 2, prob itter: 5, prob: 0.1\n",
      "test itter 2, prob itter: 6, prob: 0.1\n",
      "test itter 2, prob itter: 7, prob: 0.1\n",
      "test itter 2, prob itter: 8, prob: 0.1\n",
      "test itter 2, prob itter: 9, prob: 0.1\n",
      "test itter 2, prob itter: 0, prob: 0.2\n",
      "test itter 2, prob itter: 1, prob: 0.2\n",
      "test itter 2, prob itter: 2, prob: 0.2\n",
      "test itter 2, prob itter: 3, prob: 0.2\n",
      "test itter 2, prob itter: 4, prob: 0.2\n",
      "test itter 2, prob itter: 5, prob: 0.2\n",
      "test itter 2, prob itter: 6, prob: 0.2\n",
      "test itter 2, prob itter: 7, prob: 0.2\n",
      "test itter 2, prob itter: 8, prob: 0.2\n",
      "test itter 2, prob itter: 9, prob: 0.2\n",
      "test itter 2, prob itter: 0, prob: 0.3\n",
      "test itter 2, prob itter: 1, prob: 0.3\n",
      "test itter 2, prob itter: 2, prob: 0.3\n",
      "test itter 2, prob itter: 3, prob: 0.3\n",
      "test itter 2, prob itter: 4, prob: 0.3\n",
      "test itter 2, prob itter: 5, prob: 0.3\n",
      "test itter 2, prob itter: 6, prob: 0.3\n",
      "test itter 2, prob itter: 7, prob: 0.3\n",
      "test itter 2, prob itter: 8, prob: 0.3\n",
      "test itter 2, prob itter: 9, prob: 0.3\n",
      "test itter 2, prob itter: 0, prob: 0.4\n",
      "test itter 2, prob itter: 1, prob: 0.4\n",
      "test itter 2, prob itter: 2, prob: 0.4\n",
      "test itter 2, prob itter: 3, prob: 0.4\n",
      "test itter 2, prob itter: 4, prob: 0.4\n",
      "test itter 2, prob itter: 5, prob: 0.4\n",
      "test itter 2, prob itter: 6, prob: 0.4\n",
      "test itter 2, prob itter: 7, prob: 0.4\n",
      "test itter 2, prob itter: 8, prob: 0.4\n",
      "test itter 2, prob itter: 9, prob: 0.4\n",
      "test itter 2, prob itter: 0, prob: 0.5\n",
      "test itter 2, prob itter: 1, prob: 0.5\n",
      "test itter 2, prob itter: 2, prob: 0.5\n",
      "test itter 2, prob itter: 3, prob: 0.5\n",
      "test itter 2, prob itter: 4, prob: 0.5\n",
      "test itter 2, prob itter: 5, prob: 0.5\n",
      "test itter 2, prob itter: 6, prob: 0.5\n",
      "test itter 2, prob itter: 7, prob: 0.5\n",
      "test itter 2, prob itter: 8, prob: 0.5\n",
      "test itter 2, prob itter: 9, prob: 0.5\n",
      "test itter 2, prob itter: 0, prob: 0.6000000000000001\n",
      "test itter 2, prob itter: 1, prob: 0.6000000000000001\n",
      "test itter 2, prob itter: 2, prob: 0.6000000000000001\n",
      "test itter 2, prob itter: 3, prob: 0.6000000000000001\n",
      "test itter 2, prob itter: 4, prob: 0.6000000000000001\n",
      "test itter 2, prob itter: 5, prob: 0.6000000000000001\n",
      "test itter 2, prob itter: 6, prob: 0.6000000000000001\n",
      "test itter 2, prob itter: 7, prob: 0.6000000000000001\n",
      "test itter 2, prob itter: 8, prob: 0.6000000000000001\n",
      "test itter 2, prob itter: 9, prob: 0.6000000000000001\n",
      "test itter 2, prob itter: 0, prob: 0.7\n",
      "test itter 2, prob itter: 1, prob: 0.7\n",
      "test itter 2, prob itter: 2, prob: 0.7\n",
      "test itter 2, prob itter: 3, prob: 0.7\n",
      "test itter 2, prob itter: 4, prob: 0.7\n",
      "test itter 2, prob itter: 5, prob: 0.7\n",
      "test itter 2, prob itter: 6, prob: 0.7\n",
      "test itter 2, prob itter: 7, prob: 0.7\n",
      "test itter 2, prob itter: 8, prob: 0.7\n",
      "test itter 2, prob itter: 9, prob: 0.7\n",
      "test itter 2, prob itter: 0, prob: 0.8\n",
      "test itter 2, prob itter: 1, prob: 0.8\n",
      "test itter 2, prob itter: 2, prob: 0.8\n",
      "test itter 2, prob itter: 3, prob: 0.8\n",
      "test itter 2, prob itter: 4, prob: 0.8\n",
      "test itter 2, prob itter: 5, prob: 0.8\n",
      "test itter 2, prob itter: 6, prob: 0.8\n",
      "test itter 2, prob itter: 7, prob: 0.8\n",
      "test itter 2, prob itter: 8, prob: 0.8\n",
      "test itter 2, prob itter: 9, prob: 0.8\n",
      "test itter 2, prob itter: 0, prob: 0.9\n",
      "test itter 2, prob itter: 1, prob: 0.9\n",
      "test itter 2, prob itter: 2, prob: 0.9\n",
      "test itter 2, prob itter: 3, prob: 0.9\n",
      "test itter 2, prob itter: 4, prob: 0.9\n",
      "test itter 2, prob itter: 5, prob: 0.9\n",
      "test itter 2, prob itter: 6, prob: 0.9\n",
      "test itter 2, prob itter: 7, prob: 0.9\n",
      "test itter 2, prob itter: 8, prob: 0.9\n",
      "test itter 2, prob itter: 9, prob: 0.9\n"
     ]
    },
    {
     "name": "stderr",
     "output_type": "stream",
     "text": [
      "c:\\Users\\karst\\Anaconda3\\lib\\site-packages\\ipykernel_launcher.py:7: FutureWarning: elementwise comparison failed; returning scalar instead, but in the future will perform elementwise comparison\n",
      "  import sys\n"
     ]
    },
    {
     "name": "stdout",
     "output_type": "stream",
     "text": [
      "test itter 3, prob itter: 0, prob: 0.1\n",
      "test itter 3, prob itter: 1, prob: 0.1\n",
      "test itter 3, prob itter: 2, prob: 0.1\n",
      "test itter 3, prob itter: 3, prob: 0.1\n",
      "test itter 3, prob itter: 4, prob: 0.1\n",
      "test itter 3, prob itter: 5, prob: 0.1\n",
      "test itter 3, prob itter: 6, prob: 0.1\n",
      "test itter 3, prob itter: 7, prob: 0.1\n",
      "test itter 3, prob itter: 8, prob: 0.1\n",
      "test itter 3, prob itter: 9, prob: 0.1\n",
      "test itter 3, prob itter: 0, prob: 0.2\n",
      "test itter 3, prob itter: 1, prob: 0.2\n",
      "test itter 3, prob itter: 2, prob: 0.2\n",
      "test itter 3, prob itter: 3, prob: 0.2\n",
      "test itter 3, prob itter: 4, prob: 0.2\n",
      "test itter 3, prob itter: 5, prob: 0.2\n",
      "test itter 3, prob itter: 6, prob: 0.2\n",
      "test itter 3, prob itter: 7, prob: 0.2\n",
      "test itter 3, prob itter: 8, prob: 0.2\n",
      "test itter 3, prob itter: 9, prob: 0.2\n",
      "test itter 3, prob itter: 0, prob: 0.3\n",
      "test itter 3, prob itter: 1, prob: 0.3\n",
      "test itter 3, prob itter: 2, prob: 0.3\n",
      "test itter 3, prob itter: 3, prob: 0.3\n",
      "test itter 3, prob itter: 4, prob: 0.3\n",
      "test itter 3, prob itter: 5, prob: 0.3\n",
      "test itter 3, prob itter: 6, prob: 0.3\n",
      "test itter 3, prob itter: 7, prob: 0.3\n",
      "test itter 3, prob itter: 8, prob: 0.3\n",
      "test itter 3, prob itter: 9, prob: 0.3\n",
      "test itter 3, prob itter: 0, prob: 0.4\n",
      "test itter 3, prob itter: 1, prob: 0.4\n",
      "test itter 3, prob itter: 2, prob: 0.4\n",
      "test itter 3, prob itter: 3, prob: 0.4\n",
      "test itter 3, prob itter: 4, prob: 0.4\n",
      "test itter 3, prob itter: 5, prob: 0.4\n",
      "test itter 3, prob itter: 6, prob: 0.4\n",
      "test itter 3, prob itter: 7, prob: 0.4\n",
      "test itter 3, prob itter: 8, prob: 0.4\n",
      "test itter 3, prob itter: 9, prob: 0.4\n",
      "test itter 3, prob itter: 0, prob: 0.5\n",
      "test itter 3, prob itter: 1, prob: 0.5\n",
      "test itter 3, prob itter: 2, prob: 0.5\n",
      "test itter 3, prob itter: 3, prob: 0.5\n",
      "test itter 3, prob itter: 4, prob: 0.5\n",
      "test itter 3, prob itter: 5, prob: 0.5\n",
      "test itter 3, prob itter: 6, prob: 0.5\n",
      "test itter 3, prob itter: 7, prob: 0.5\n",
      "test itter 3, prob itter: 8, prob: 0.5\n",
      "test itter 3, prob itter: 9, prob: 0.5\n",
      "test itter 3, prob itter: 0, prob: 0.6000000000000001\n",
      "test itter 3, prob itter: 1, prob: 0.6000000000000001\n",
      "test itter 3, prob itter: 2, prob: 0.6000000000000001\n",
      "test itter 3, prob itter: 3, prob: 0.6000000000000001\n",
      "test itter 3, prob itter: 4, prob: 0.6000000000000001\n",
      "test itter 3, prob itter: 5, prob: 0.6000000000000001\n",
      "test itter 3, prob itter: 6, prob: 0.6000000000000001\n",
      "test itter 3, prob itter: 7, prob: 0.6000000000000001\n",
      "test itter 3, prob itter: 8, prob: 0.6000000000000001\n",
      "test itter 3, prob itter: 9, prob: 0.6000000000000001\n",
      "test itter 3, prob itter: 0, prob: 0.7\n",
      "test itter 3, prob itter: 1, prob: 0.7\n",
      "test itter 3, prob itter: 2, prob: 0.7\n",
      "test itter 3, prob itter: 3, prob: 0.7\n",
      "test itter 3, prob itter: 4, prob: 0.7\n",
      "test itter 3, prob itter: 5, prob: 0.7\n",
      "test itter 3, prob itter: 6, prob: 0.7\n",
      "test itter 3, prob itter: 7, prob: 0.7\n",
      "test itter 3, prob itter: 8, prob: 0.7\n",
      "test itter 3, prob itter: 9, prob: 0.7\n",
      "test itter 3, prob itter: 0, prob: 0.8\n",
      "test itter 3, prob itter: 1, prob: 0.8\n",
      "test itter 3, prob itter: 2, prob: 0.8\n",
      "test itter 3, prob itter: 3, prob: 0.8\n",
      "test itter 3, prob itter: 4, prob: 0.8\n",
      "test itter 3, prob itter: 5, prob: 0.8\n",
      "test itter 3, prob itter: 6, prob: 0.8\n",
      "test itter 3, prob itter: 7, prob: 0.8\n",
      "test itter 3, prob itter: 8, prob: 0.8\n",
      "test itter 3, prob itter: 9, prob: 0.8\n",
      "test itter 3, prob itter: 0, prob: 0.9\n",
      "test itter 3, prob itter: 1, prob: 0.9\n",
      "test itter 3, prob itter: 2, prob: 0.9\n",
      "test itter 3, prob itter: 3, prob: 0.9\n",
      "test itter 3, prob itter: 4, prob: 0.9\n",
      "test itter 3, prob itter: 5, prob: 0.9\n",
      "test itter 3, prob itter: 6, prob: 0.9\n",
      "test itter 3, prob itter: 7, prob: 0.9\n",
      "test itter 3, prob itter: 8, prob: 0.9\n",
      "test itter 3, prob itter: 9, prob: 0.9\n"
     ]
    },
    {
     "name": "stderr",
     "output_type": "stream",
     "text": [
      "c:\\Users\\karst\\Anaconda3\\lib\\site-packages\\ipykernel_launcher.py:7: FutureWarning: elementwise comparison failed; returning scalar instead, but in the future will perform elementwise comparison\n",
      "  import sys\n"
     ]
    },
    {
     "name": "stdout",
     "output_type": "stream",
     "text": [
      "test itter 4, prob itter: 0, prob: 0.1\n",
      "test itter 4, prob itter: 1, prob: 0.1\n",
      "test itter 4, prob itter: 2, prob: 0.1\n",
      "test itter 4, prob itter: 3, prob: 0.1\n",
      "test itter 4, prob itter: 4, prob: 0.1\n",
      "test itter 4, prob itter: 5, prob: 0.1\n",
      "test itter 4, prob itter: 6, prob: 0.1\n",
      "test itter 4, prob itter: 7, prob: 0.1\n",
      "test itter 4, prob itter: 8, prob: 0.1\n",
      "test itter 4, prob itter: 9, prob: 0.1\n",
      "test itter 4, prob itter: 0, prob: 0.2\n",
      "test itter 4, prob itter: 1, prob: 0.2\n",
      "test itter 4, prob itter: 2, prob: 0.2\n",
      "test itter 4, prob itter: 3, prob: 0.2\n",
      "test itter 4, prob itter: 4, prob: 0.2\n",
      "test itter 4, prob itter: 5, prob: 0.2\n",
      "test itter 4, prob itter: 6, prob: 0.2\n",
      "test itter 4, prob itter: 7, prob: 0.2\n",
      "test itter 4, prob itter: 8, prob: 0.2\n",
      "test itter 4, prob itter: 9, prob: 0.2\n",
      "test itter 4, prob itter: 0, prob: 0.3\n",
      "test itter 4, prob itter: 1, prob: 0.3\n",
      "test itter 4, prob itter: 2, prob: 0.3\n",
      "test itter 4, prob itter: 3, prob: 0.3\n",
      "test itter 4, prob itter: 4, prob: 0.3\n",
      "test itter 4, prob itter: 5, prob: 0.3\n",
      "test itter 4, prob itter: 6, prob: 0.3\n",
      "test itter 4, prob itter: 7, prob: 0.3\n",
      "test itter 4, prob itter: 8, prob: 0.3\n",
      "test itter 4, prob itter: 9, prob: 0.3\n",
      "test itter 4, prob itter: 0, prob: 0.4\n",
      "test itter 4, prob itter: 1, prob: 0.4\n",
      "test itter 4, prob itter: 2, prob: 0.4\n",
      "test itter 4, prob itter: 3, prob: 0.4\n",
      "test itter 4, prob itter: 4, prob: 0.4\n",
      "test itter 4, prob itter: 5, prob: 0.4\n",
      "test itter 4, prob itter: 6, prob: 0.4\n",
      "test itter 4, prob itter: 7, prob: 0.4\n",
      "test itter 4, prob itter: 8, prob: 0.4\n",
      "test itter 4, prob itter: 9, prob: 0.4\n",
      "test itter 4, prob itter: 0, prob: 0.5\n",
      "test itter 4, prob itter: 1, prob: 0.5\n",
      "test itter 4, prob itter: 2, prob: 0.5\n",
      "test itter 4, prob itter: 3, prob: 0.5\n",
      "test itter 4, prob itter: 4, prob: 0.5\n",
      "test itter 4, prob itter: 5, prob: 0.5\n",
      "test itter 4, prob itter: 6, prob: 0.5\n",
      "test itter 4, prob itter: 7, prob: 0.5\n",
      "test itter 4, prob itter: 8, prob: 0.5\n",
      "test itter 4, prob itter: 9, prob: 0.5\n",
      "test itter 4, prob itter: 0, prob: 0.6000000000000001\n",
      "test itter 4, prob itter: 1, prob: 0.6000000000000001\n",
      "test itter 4, prob itter: 2, prob: 0.6000000000000001\n",
      "test itter 4, prob itter: 3, prob: 0.6000000000000001\n",
      "test itter 4, prob itter: 4, prob: 0.6000000000000001\n",
      "test itter 4, prob itter: 5, prob: 0.6000000000000001\n",
      "test itter 4, prob itter: 6, prob: 0.6000000000000001\n",
      "test itter 4, prob itter: 7, prob: 0.6000000000000001\n",
      "test itter 4, prob itter: 8, prob: 0.6000000000000001\n",
      "test itter 4, prob itter: 9, prob: 0.6000000000000001\n",
      "test itter 4, prob itter: 0, prob: 0.7\n",
      "test itter 4, prob itter: 1, prob: 0.7\n",
      "test itter 4, prob itter: 2, prob: 0.7\n",
      "test itter 4, prob itter: 3, prob: 0.7\n",
      "test itter 4, prob itter: 4, prob: 0.7\n",
      "test itter 4, prob itter: 5, prob: 0.7\n",
      "test itter 4, prob itter: 6, prob: 0.7\n",
      "test itter 4, prob itter: 7, prob: 0.7\n",
      "test itter 4, prob itter: 8, prob: 0.7\n",
      "test itter 4, prob itter: 9, prob: 0.7\n",
      "test itter 4, prob itter: 0, prob: 0.8\n",
      "test itter 4, prob itter: 1, prob: 0.8\n",
      "test itter 4, prob itter: 2, prob: 0.8\n",
      "test itter 4, prob itter: 3, prob: 0.8\n",
      "test itter 4, prob itter: 4, prob: 0.8\n",
      "test itter 4, prob itter: 5, prob: 0.8\n",
      "test itter 4, prob itter: 6, prob: 0.8\n",
      "test itter 4, prob itter: 7, prob: 0.8\n",
      "test itter 4, prob itter: 8, prob: 0.8\n",
      "test itter 4, prob itter: 9, prob: 0.8\n",
      "test itter 4, prob itter: 0, prob: 0.9\n",
      "test itter 4, prob itter: 1, prob: 0.9\n",
      "test itter 4, prob itter: 2, prob: 0.9\n",
      "test itter 4, prob itter: 3, prob: 0.9\n",
      "test itter 4, prob itter: 4, prob: 0.9\n",
      "test itter 4, prob itter: 5, prob: 0.9\n",
      "test itter 4, prob itter: 6, prob: 0.9\n",
      "test itter 4, prob itter: 7, prob: 0.9\n",
      "test itter 4, prob itter: 8, prob: 0.9\n",
      "test itter 4, prob itter: 9, prob: 0.9\n"
     ]
    }
   ],
   "source": [
    "test_itterations = 5\n",
    "prob_itterations = 10\n",
    "performance_dict = defaultdict(lambda:{\"avg_recall\": [], \"avg_prec\": [], \"avg_f1\":[]})\n",
    "\n",
    "for test_itter in range(test_itterations):\n",
    "    test_sents = np.random.choice(data_sents, size=int(len(data_sents)*0.1), replace=False)\n",
    "    possible_train_sents = [sent for sent in data_sents if sent not in test_sents]\n",
    "    possible_train_sents = np.array(possible_train_sents, dtype=object)\n",
    "    X_test = [sent2features(s) for s in test_sents]\n",
    "    y_test = [sent2labels(s) for s in test_sents]\n",
    "    for prob in np.arange(1/9, 10/9, step=1/9):\n",
    "        for prob_itter in range(prob_itterations):\n",
    "            print(f\"test itter {test_itter}, prob itter: {prob_itter}, prob: {prob*9/10}\")\n",
    "            train_sents = np.random.choice(possible_train_sents, size=int(len(possible_train_sents)*prob), replace=False)\n",
    "            X_train = [sent2features(s) for s in train_sents]\n",
    "            y_train = [sent2labels(s) for s in train_sents]\n",
    "\n",
    "\n",
    "            crf = sklearn_crfsuite.CRF(\n",
    "                algorithm='lbfgs',\n",
    "                c1=0.1,\n",
    "                c2=0.1,\n",
    "                max_iterations=100,\n",
    "                all_possible_transitions=True\n",
    "            )\n",
    "            try:\n",
    "                crf.fit(X_train, y_train)\n",
    "            except AttributeError:\n",
    "                pass\n",
    "            y_pred = crf.predict(X_test)\n",
    "            f_1 = metrics.flat_f1_score(y_test, y_pred,\n",
    "                                average='weighted', labels=labels, zero_division = 0)\n",
    "            precision = metrics.flat_precision_score(y_test, y_pred,\n",
    "                                average='weighted', labels=labels, zero_division = 0)\n",
    "            recall = metrics.flat_recall_score(y_test, y_pred,\n",
    "                                average='weighted', labels=labels, zero_division = 0)\n",
    "            performance_dict[prob][\"avg_recall\"].append(recall)\n",
    "            performance_dict[prob][\"avg_prec\"].append(precision)\n",
    "            performance_dict[prob][\"avg_f1\"].append(f_1)"
   ]
  },
  {
   "cell_type": "code",
   "execution_count": 112,
   "metadata": {},
   "outputs": [],
   "source": [
    "import pickle\n",
    "map_path = \"C:/Users/karst/OneDrive/Documenten/uni/jaar 3 semester 2, het semester dat ik opgaf/Bachelor-graduation-project/code/saved runs/\"\n",
    "with open(map_path + 'performance_dict_max_depth_german.pkl', 'wb') as outp:\n",
    "    pickle.dump(dict(performance_dict), outp)"
   ]
  },
  {
   "cell_type": "code",
   "execution_count": 113,
   "metadata": {},
   "outputs": [
    {
     "name": "stdout",
     "output_type": "stream",
     "text": [
      "0.1\n",
      "avg_recall: 0.1977380935830714\n",
      "avg_prec: 0.6886053550394415\n",
      "avg_f1: 0.28977212442553557\n",
      "----------------\n",
      "0.2\n",
      "avg_recall: 0.36447075734154116\n",
      "avg_prec: 0.8087083887924487\n",
      "avg_f1: 0.48114497825030594\n",
      "----------------\n",
      "0.3\n",
      "avg_recall: 0.4729191975757544\n",
      "avg_prec: 0.8572313881428099\n",
      "avg_f1: 0.5912668330381519\n",
      "----------------\n",
      "0.4\n",
      "avg_recall: 0.5827569484384746\n",
      "avg_prec: 0.902851018527778\n",
      "avg_f1: 0.6913374851353485\n",
      "----------------\n",
      "0.5\n",
      "avg_recall: 0.6993519981705176\n",
      "avg_prec: 0.9273163868872639\n",
      "avg_f1: 0.7864288693835675\n",
      "----------------\n",
      "0.6000000000000001\n",
      "avg_recall: 0.7426182547395612\n",
      "avg_prec: 0.9444960161512954\n",
      "avg_f1: 0.8216280479424514\n",
      "----------------\n",
      "0.7\n",
      "avg_recall: 0.8381518374979171\n",
      "avg_prec: 0.9677987267093744\n",
      "avg_f1: 0.893355344799991\n",
      "----------------\n",
      "0.8\n",
      "avg_recall: 0.8963531741112277\n",
      "avg_prec: 0.9781566165284292\n",
      "avg_f1: 0.9317460652148738\n",
      "----------------\n",
      "0.9\n",
      "avg_recall: 0.9758700712422613\n",
      "avg_prec: 0.997021016452612\n",
      "avg_f1: 0.9857071750904612\n",
      "----------------\n"
     ]
    }
   ],
   "source": [
    "for key in performance_dict:\n",
    "    print(key*9/10)\n",
    "    for category in performance_dict[key]:\n",
    "        print(f\"{category}: {np.mean(performance_dict[key][category])}\")\n",
    "    print(\"----------------\")"
   ]
  },
  {
   "cell_type": "code",
   "execution_count": 4,
   "metadata": {},
   "outputs": [],
   "source": [
    "import matplotlib.pyplot as plt"
   ]
  },
  {
   "cell_type": "code",
   "execution_count": 2,
   "metadata": {},
   "outputs": [],
   "source": [
    "import pickle\n",
    "map_path = \"C:/Users/karst/OneDrive/Documenten/uni/jaar 3 semester 2, het semester dat ik opgaf/Bachelor-graduation-project/code/saved runs/\""
   ]
  },
  {
   "cell_type": "code",
   "execution_count": 62,
   "metadata": {},
   "outputs": [],
   "source": [
    "with open(map_path + 'performance_dict_german.pkl', 'rb') as inp:\n",
    "    performance_dict = pickle.load(inp)"
   ]
  },
  {
   "cell_type": "code",
   "execution_count": 63,
   "metadata": {},
   "outputs": [],
   "source": [
    "recall_plot_list = []\n",
    "precision_plot_list = []\n",
    "f1_plot_list = []\n",
    "for key in performance_dict:\n",
    "    recall_plot_list.append(performance_dict[key][\"avg_recall\"])\n",
    "    precision_plot_list.append(performance_dict[key][\"avg_prec\"])\n",
    "    f1_plot_list.append(performance_dict[key][\"avg_f1\"])"
   ]
  },
  {
   "cell_type": "code",
   "execution_count": 48,
   "metadata": {},
   "outputs": [
    {
     "data": {
      "image/png": "[encoded data removed]",
      "text/plain": [
       "<Figure size 2160x720 with 3 Axes>"
      ]
     },
     "metadata": {},
     "output_type": "display_data"
    }
   ],
   "source": [
    "small_size = 18\n",
    "medium_size = 22\n",
    "fig, axs = plt.subplots(1,3 , constrained_layout=True, figsize=(30,10))\n",
    "# fig = plt.figure(figsize=(20,10))\n",
    "# fig.suptitle(\"Distribution of recall and precision over data splits with 50 epochs per split\", fontsize= 16)\n",
    "# axs[0]= fig.add_axes([0,0,0.5,1])\n",
    "labels = [i/10 for i in range(1,10)]\n",
    "\n",
    "#recall\n",
    "axs[0].plot([1,2,3,4,5,6,7,8,9],np.mean(recall_plot_list, axis=1))\n",
    "axs[0].violinplot(recall_plot_list, showmeans=True, widths=0.75)\n",
    "axs[0].set_xticks([1,2,3,4,5,6,7,8,9])\n",
    "axs[0].set_xticklabels(labels)\n",
    "axs[0].set_ylim(0,1)\n",
    "axs[0].set_xlabel(xlabel=\"percentage of data which is used as trainings data\")\n",
    "axs[0].set_ylabel(ylabel=\"Recall\")\n",
    "axs[0].legend([\"mean of recall\",\"distribution of recall\"], loc=\"lower right\", fontsize = small_size)\n",
    "axs[0].set_title(\"Recall\")\n",
    "\n",
    "\n",
    "#prec\n",
    "axs[1].plot([1,2,3,4,5,6,7,8,9],np.mean(precision_plot_list, axis=1))\n",
    "axs[1].violinplot(precision_plot_list, showmeans=True, widths=0.75)\n",
    "axs[1].set_xticks([1,2,3,4,5,6,7,8,9])\n",
    "axs[1].set_xticklabels(labels)\n",
    "axs[1].set_ylim(0,1)\n",
    "axs[1].set_xlabel(xlabel=\"percentage of data which is used as trainings data\")\n",
    "axs[1].set_ylabel(ylabel=\"Precision\")\n",
    "axs[1].legend([\"mean of precision\",\"distribution of precision\"], loc=\"lower right\", fontsize = small_size)\n",
    "axs[1].set_title(\"Precision\")\n",
    "\n",
    "#f1\n",
    "axs[2].plot([1,2,3,4,5,6,7,8,9],np.mean(f1_plot_list, axis=1))\n",
    "axs[2].violinplot(f1_plot_list, showmeans=True, widths=0.75)\n",
    "axs[2].set_xticks([1,2,3,4,5,6,7,8,9])\n",
    "axs[2].set_xticklabels(labels)\n",
    "axs[2].set_ylim(0,1)\n",
    "# axs[1].set_xlabel(xlabel=\"percentage of data which is used as trainings data\")\n",
    "axs[2].set_ylabel(ylabel=\"F1\")\n",
    "axs[2].legend([\"mean of F1\",\"distribution of F1\"], loc=\"lower right\", fontsize= small_size)\n",
    "axs[2].set_title(\"F1\")\n",
    "\n",
    "#main\n",
    "fig.suptitle(\"Distribution of recall and precision over data splits with 50 epochs per split\", fontsize= 25)\n",
    "\n",
    "# small_size = 18\n",
    "# medium_size = 22\n",
    "plt.rc(\"xtick\", labelsize = small_size)\n",
    "plt.rc(\"ytick\", labelsize = small_size)\n",
    "plt.rc(\"axes\", labelsize = medium_size)\n",
    "plt.rc(\"axes\", titlesize = medium_size)\n",
    "# plt.rc(\"legend\", labelsize= small_size)\n",
    "\n",
    "\n",
    "plt.show()"
   ]
  },
  {
   "cell_type": "code",
   "execution_count": 65,
   "metadata": {},
   "outputs": [
    {
     "data": {
      "image/png": "[encoded data removed]",
      "text/plain": [
       "<Figure size 720x720 with 1 Axes>"
      ]
     },
     "metadata": {},
     "output_type": "display_data"
    }
   ],
   "source": [
    "small_size = 18\n",
    "medium_size = 22\n",
    "fig, axs = plt.subplots(1,1 , constrained_layout=True, figsize=(10,10))\n",
    "# fig = plt.figure(figsize=(20,10))\n",
    "# fig.suptitle(\"Distribution of recall and precision over data splits with 50 epochs per split\", fontsize= 16)\n",
    "# axs[0]= fig.add_axes([0,0,0.5,1])\n",
    "labels = [i/10 for i in range(1,10)]\n",
    "\n",
    "#recall\n",
    "axs.plot([1,2,3,4,5,6,7,8,9],np.mean(recall_plot_list, axis=1))\n",
    "axs.violinplot(recall_plot_list, showmeans=True, widths=0.75)\n",
    "axs.set_xticks([1,2,3,4,5,6,7,8,9])\n",
    "axs.set_xticklabels(labels)\n",
    "axs.set_ylim(0,1)\n",
    "axs.set_xlabel(xlabel=\"percentage of data which is used as trainings data\")\n",
    "axs.set_ylabel(ylabel=\"Recall\")\n",
    "axs.legend([\"mean of recall\",\"distribution of recall\"], loc=\"lower right\", fontsize = small_size)\n",
    "axs.set_ylim(0, 0.3)\n",
    "axs.set_title(\"Recall\")\n",
    "\n",
    "# small_size = 18\n",
    "# medium_size = 22\n",
    "plt.rc(\"xtick\", labelsize = small_size)\n",
    "plt.rc(\"ytick\", labelsize = small_size)\n",
    "plt.rc(\"axes\", labelsize = medium_size)\n",
    "plt.rc(\"axes\", titlesize = medium_size)\n",
    "# plt.rc(\"legend\", labelsize= small_size)\n",
    "\n",
    "\n",
    "plt.show()"
   ]
  },
  {
   "cell_type": "code",
   "execution_count": 1,
   "metadata": {},
   "outputs": [
    {
     "ename": "NameError",
     "evalue": "name 'precision_plot_list' is not defined",
     "output_type": "error",
     "traceback": [
      "\u001b[1;31m---------------------------------------------------------------------------\u001b[0m",
      "\u001b[1;31mNameError\u001b[0m                                 Traceback (most recent call last)",
      "\u001b[1;32m<ipython-input-1-3300b4adfc8e>\u001b[0m in \u001b[0;36m<module>\u001b[1;34m\u001b[0m\n\u001b[1;32m----> 1\u001b[1;33m \u001b[0mprint\u001b[0m\u001b[1;33m(\u001b[0m\u001b[0mprecision_plot_list\u001b[0m\u001b[1;33m)\u001b[0m\u001b[1;33m\u001b[0m\u001b[1;33m\u001b[0m\u001b[0m\n\u001b[0m",
      "\u001b[1;31mNameError\u001b[0m: name 'precision_plot_list' is not defined"
     ]
    }
   ],
   "source": [
    "print(precision_plot_list)"
   ]
  }
 ],
 "metadata": {
  "interpreter": {
   "hash": "7df5654842b225cf4935ec3a142cde16adea23bd204b8890b7d1368ec736f174"
  },
  "kernelspec": {
   "display_name": "Python 3.7.4 ('base')",
   "language": "python",
   "name": "python3"
  },
  "language_info": {
   "codemirror_mode": {
    "name": "ipython",
    "version": 3
   },
   "file_extension": ".py",
   "mimetype": "text/x-python",
   "name": "python",
   "nbconvert_exporter": "python",
   "pygments_lexer": "ipython3",
   "version": "3.7.4"
  },
  "orig_nbformat": 4
 },
 "nbformat": 4,
 "nbformat_minor": 2
}
