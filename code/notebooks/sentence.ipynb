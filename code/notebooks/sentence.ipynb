{
 "cells": [
  {
   "cell_type": "code",
   "execution_count": 206,
   "metadata": {},
   "outputs": [],
   "source": [
    "import numpy as np\n",
    "import matplotlib.pyplot as plt\n",
    "import pandas as pd\n",
    "datapath = \"../data/data/v2.0/\"\n",
    "import csv\n",
    "from collections import defaultdict\n",
    "import seaborn as sn\n",
    "from numpy.random import default_rng\n",
    "from sklearn import tree\n",
    "import decisiontree as dt\n",
    "# code\\data\\data\\v2.0\\hipe2020\\en\\HIPE-2022-v2.0-hipe2020-dev-en.tsv"
   ]
  },
  {
   "cell_type": "code",
   "execution_count": 2,
   "metadata": {},
   "outputs": [],
   "source": [
    "maxInt = sys.maxsize\n",
    "\n",
    "while True:\n",
    "    # decrease the maxInt value by factor 10 \n",
    "    # as long as the OverflowError occurs.\n",
    "\n",
    "    try:\n",
    "        csv.field_size_limit(maxInt)\n",
    "        break\n",
    "    except OverflowError:\n",
    "        maxInt = int(maxInt/10)"
   ]
  },
  {
   "cell_type": "code",
   "execution_count": 3,
   "metadata": {},
   "outputs": [],
   "source": [
    "english_dataframe = pd.read_csv(datapath+\"hipe2020/en/HIPE-2022-v2.0-hipe2020-dev-en.tsv\", sep = '\\t', header = 0, engine=\"python\", comment='#', quoting=csv.QUOTE_NONE)"
   ]
  },
  {
   "cell_type": "code",
   "execution_count": 4,
   "metadata": {},
   "outputs": [],
   "source": [
    "misc_list = english_dataframe[\"MISC\"].to_list()"
   ]
  },
  {
   "cell_type": "code",
   "execution_count": 5,
   "metadata": {},
   "outputs": [],
   "source": [
    "sentence_idx = []\n",
    "idx = 0\n",
    "for item in misc_list:\n",
    "    sentence_idx.append(idx)\n",
    "    if \"EndOfSentence\" in item:\n",
    "        idx += 1\n",
    "english_dataframe[\"SENTENCE_ID\"] = sentence_idx"
   ]
  },
  {
   "cell_type": "code",
   "execution_count": 192,
   "metadata": {},
   "outputs": [],
   "source": [
    "np.save(\"sentence idx\", sentence_idx)"
   ]
  },
  {
   "cell_type": "code",
   "execution_count": 6,
   "metadata": {},
   "outputs": [],
   "source": [
    "labelled_sentences = set()\n",
    "for i, label in enumerate(english_dataframe[\"NE-COARSE-LIT\"].to_list()):\n",
    "    if label != \"O\":\n",
    "        labelled_sentences.add(sentence_idx[i])"
   ]
  },
  {
   "cell_type": "code",
   "execution_count": 148,
   "metadata": {},
   "outputs": [
    {
     "data": {
      "text/html": [
       "<div>\n",
       "<style scoped>\n",
       "    .dataframe tbody tr th:only-of-type {\n",
       "        vertical-align: middle;\n",
       "    }\n",
       "\n",
       "    .dataframe tbody tr th {\n",
       "        vertical-align: top;\n",
       "    }\n",
       "\n",
       "    .dataframe thead th {\n",
       "        text-align: right;\n",
       "    }\n",
       "</style>\n",
       "<table border=\"1\" class=\"dataframe\">\n",
       "  <thead>\n",
       "    <tr style=\"text-align: right;\">\n",
       "      <th></th>\n",
       "      <th>TOKEN</th>\n",
       "      <th>NE-COARSE-LIT</th>\n",
       "      <th>NE-COARSE-METO</th>\n",
       "      <th>NE-FINE-LIT</th>\n",
       "      <th>NE-FINE-METO</th>\n",
       "      <th>NE-FINE-COMP</th>\n",
       "      <th>NE-NESTED</th>\n",
       "      <th>NEL-LIT</th>\n",
       "      <th>NEL-METO</th>\n",
       "      <th>MISC</th>\n",
       "      <th>SENTENCE_ID</th>\n",
       "    </tr>\n",
       "  </thead>\n",
       "  <tbody>\n",
       "    <tr>\n",
       "      <td>0</td>\n",
       "      <td>From</td>\n",
       "      <td>O</td>\n",
       "      <td>O</td>\n",
       "      <td>_</td>\n",
       "      <td>_</td>\n",
       "      <td>_</td>\n",
       "      <td>_</td>\n",
       "      <td>_</td>\n",
       "      <td>_</td>\n",
       "      <td>_</td>\n",
       "      <td>0</td>\n",
       "    </tr>\n",
       "    <tr>\n",
       "      <td>1</td>\n",
       "      <td>the</td>\n",
       "      <td>O</td>\n",
       "      <td>O</td>\n",
       "      <td>_</td>\n",
       "      <td>_</td>\n",
       "      <td>_</td>\n",
       "      <td>_</td>\n",
       "      <td>_</td>\n",
       "      <td>_</td>\n",
       "      <td>_</td>\n",
       "      <td>0</td>\n",
       "    </tr>\n",
       "    <tr>\n",
       "      <td>2</td>\n",
       "      <td>AMERICAN</td>\n",
       "      <td>B-prod</td>\n",
       "      <td>O</td>\n",
       "      <td>_</td>\n",
       "      <td>_</td>\n",
       "      <td>_</td>\n",
       "      <td>_</td>\n",
       "      <td>NIL</td>\n",
       "      <td>_</td>\n",
       "      <td>_</td>\n",
       "      <td>0</td>\n",
       "    </tr>\n",
       "    <tr>\n",
       "      <td>3</td>\n",
       "      <td>MERCURY</td>\n",
       "      <td>I-prod</td>\n",
       "      <td>O</td>\n",
       "      <td>_</td>\n",
       "      <td>_</td>\n",
       "      <td>_</td>\n",
       "      <td>_</td>\n",
       "      <td>NIL</td>\n",
       "      <td>_</td>\n",
       "      <td>NoSpaceAfter</td>\n",
       "      <td>0</td>\n",
       "    </tr>\n",
       "    <tr>\n",
       "      <td>4</td>\n",
       "      <td>EndOfSentence</td>\n",
       "      <td>O</td>\n",
       "      <td>O</td>\n",
       "      <td>_</td>\n",
       "      <td>_</td>\n",
       "      <td>_</td>\n",
       "      <td>_</td>\n",
       "      <td>_</td>\n",
       "      <td>_</td>\n",
       "      <td>EndOfLine|EndOfSentence</td>\n",
       "      <td>0</td>\n",
       "    </tr>\n",
       "    <tr>\n",
       "      <td>...</td>\n",
       "      <td>...</td>\n",
       "      <td>...</td>\n",
       "      <td>...</td>\n",
       "      <td>...</td>\n",
       "      <td>...</td>\n",
       "      <td>...</td>\n",
       "      <td>...</td>\n",
       "      <td>...</td>\n",
       "      <td>...</td>\n",
       "      <td>...</td>\n",
       "      <td>...</td>\n",
       "    </tr>\n",
       "    <tr>\n",
       "      <td>29054</td>\n",
       "      <td>Booth</td>\n",
       "      <td>O</td>\n",
       "      <td>O</td>\n",
       "      <td>_</td>\n",
       "      <td>_</td>\n",
       "      <td>_</td>\n",
       "      <td>_</td>\n",
       "      <td>_</td>\n",
       "      <td>_</td>\n",
       "      <td>_</td>\n",
       "      <td>1044</td>\n",
       "    </tr>\n",
       "    <tr>\n",
       "      <td>29055</td>\n",
       "      <td>of</td>\n",
       "      <td>O</td>\n",
       "      <td>O</td>\n",
       "      <td>_</td>\n",
       "      <td>_</td>\n",
       "      <td>_</td>\n",
       "      <td>_</td>\n",
       "      <td>_</td>\n",
       "      <td>_</td>\n",
       "      <td>_</td>\n",
       "      <td>1044</td>\n",
       "    </tr>\n",
       "    <tr>\n",
       "      <td>29056</td>\n",
       "      <td>course</td>\n",
       "      <td>O</td>\n",
       "      <td>O</td>\n",
       "      <td>_</td>\n",
       "      <td>_</td>\n",
       "      <td>_</td>\n",
       "      <td>_</td>\n",
       "      <td>_</td>\n",
       "      <td>_</td>\n",
       "      <td>NoSpaceAfter</td>\n",
       "      <td>1044</td>\n",
       "    </tr>\n",
       "    <tr>\n",
       "      <td>29057</td>\n",
       "      <td>)</td>\n",
       "      <td>O</td>\n",
       "      <td>O</td>\n",
       "      <td>_</td>\n",
       "      <td>_</td>\n",
       "      <td>_</td>\n",
       "      <td>_</td>\n",
       "      <td>_</td>\n",
       "      <td>_</td>\n",
       "      <td>NoSpaceAfter</td>\n",
       "      <td>1044</td>\n",
       "    </tr>\n",
       "    <tr>\n",
       "      <td>29058</td>\n",
       "      <td>EndOfSentence</td>\n",
       "      <td>O</td>\n",
       "      <td>O</td>\n",
       "      <td>_</td>\n",
       "      <td>_</td>\n",
       "      <td>_</td>\n",
       "      <td>_</td>\n",
       "      <td>_</td>\n",
       "      <td>_</td>\n",
       "      <td>EndOfLine|EndOfSentence</td>\n",
       "      <td>1044</td>\n",
       "    </tr>\n",
       "  </tbody>\n",
       "</table>\n",
       "<p>29059 rows × 11 columns</p>\n",
       "</div>"
      ],
      "text/plain": [
       "               TOKEN NE-COARSE-LIT NE-COARSE-METO NE-FINE-LIT NE-FINE-METO  \\\n",
       "0               From             O              O           _            _   \n",
       "1                the             O              O           _            _   \n",
       "2           AMERICAN        B-prod              O           _            _   \n",
       "3            MERCURY        I-prod              O           _            _   \n",
       "4      EndOfSentence             O              O           _            _   \n",
       "...              ...           ...            ...         ...          ...   \n",
       "29054          Booth             O              O           _            _   \n",
       "29055             of             O              O           _            _   \n",
       "29056         course             O              O           _            _   \n",
       "29057              )             O              O           _            _   \n",
       "29058  EndOfSentence             O              O           _            _   \n",
       "\n",
       "      NE-FINE-COMP NE-NESTED NEL-LIT NEL-METO                     MISC  \\\n",
       "0                _         _       _        _                        _   \n",
       "1                _         _       _        _                        _   \n",
       "2                _         _     NIL        _                        _   \n",
       "3                _         _     NIL        _             NoSpaceAfter   \n",
       "4                _         _       _        _  EndOfLine|EndOfSentence   \n",
       "...            ...       ...     ...      ...                      ...   \n",
       "29054            _         _       _        _                        _   \n",
       "29055            _         _       _        _                        _   \n",
       "29056            _         _       _        _             NoSpaceAfter   \n",
       "29057            _         _       _        _             NoSpaceAfter   \n",
       "29058            _         _       _        _  EndOfLine|EndOfSentence   \n",
       "\n",
       "       SENTENCE_ID  \n",
       "0                0  \n",
       "1                0  \n",
       "2                0  \n",
       "3                0  \n",
       "4                0  \n",
       "...            ...  \n",
       "29054         1044  \n",
       "29055         1044  \n",
       "29056         1044  \n",
       "29057         1044  \n",
       "29058         1044  \n",
       "\n",
       "[29059 rows x 11 columns]"
      ]
     },
     "execution_count": 148,
     "metadata": {},
     "output_type": "execute_result"
    }
   ],
   "source": [
    "english_dataframe"
   ]
  },
  {
   "cell_type": "code",
   "execution_count": 150,
   "metadata": {},
   "outputs": [],
   "source": [
    "token_dict = english_dataframe[\"TOKEN\"].str.lower().value_counts().to_dict()\n"
   ]
  },
  {
   "cell_type": "code",
   "execution_count": 147,
   "metadata": {},
   "outputs": [
    {
     "name": "stderr",
     "output_type": "stream",
     "text": [
      "C:\\Users\\karst\\Anaconda3\\lib\\site-packages\\ipykernel_launcher.py:2: SettingWithCopyWarning: \n",
      "A value is trying to be set on a copy of a slice from a DataFrame\n",
      "\n",
      "See the caveats in the documentation: http://pandas.pydata.org/pandas-docs/stable/user_guide/indexing.html#returning-a-view-versus-a-copy\n",
      "  \n"
     ]
    }
   ],
   "source": [
    "temp_data_frame = english_dataframe.copy()\n",
    "temp_data_frame[\"TOKEN\"][temp_data_frame[\"MISC\"].str.contains(\"EndOfSentence\")] = \"EndOfSentence\""
   ]
  },
  {
   "cell_type": "code",
   "execution_count": 149,
   "metadata": {},
   "outputs": [],
   "source": [
    "NE_dict = english_dataframe[english_dataframe[\"NE-COARSE-LIT\"] != \"O\"][\"TOKEN\"].value_counts().to_dict()"
   ]
  },
  {
   "cell_type": "code",
   "execution_count": 151,
   "metadata": {},
   "outputs": [
    {
     "name": "stdout",
     "output_type": "stream",
     "text": [
      "14542\n",
      "[',', 'the', 'of', 'endofsentence', 'and', 'to', 'a', '¬', 'in', '.', 'is', '-', 'that', 'for', 'he', 'be', 'as', 'was', 'it', 'at', 'on', 'by', 'with', 'this', 'will', 'have', 'from', '’', 'his', 'are', 'i', 'their', ';', 'which', 's', 'not', 'they', 'has', '*', \"'\", '“', 'you', 'or', 'an', 'one', 'all', 'we', 'been', 'but', 'no', 'who', 'were', 'our', 'than', 'other', 'county', '—', 'them', 'any', 'man', 'when', '”', 'made', 'new', 'more', 'j', 'out', 'there', 'can', 'may', 'would', 'day', 'its', ':', 'had']\n",
      "75\n"
     ]
    }
   ],
   "source": [
    "feature_list = []\n",
    "total_word_count = len(english_dataframe)\n",
    "total = 0\n",
    "for key in token_dict:\n",
    "    total += token_dict[key]\n",
    "    feature_list.append(key)\n",
    "    if total > total_word_count * 0.5:\n",
    "        break\n",
    "print(total)\n",
    "print(feature_list)\n",
    "print(len(feature_list))"
   ]
  },
  {
   "cell_type": "code",
   "execution_count": 153,
   "metadata": {},
   "outputs": [],
   "source": [
    "post_fix_dict_3 = defaultdict(lambda:0)\n",
    "post_fix_dict_2 = defaultdict(lambda:0)\n",
    "post_fix_3_list = []\n",
    "post_fix_2_list = []\n",
    "for key in token_dict:\n",
    "    if key == \"endofsentence\":\n",
    "        continue\n",
    "    if len(key) <= 2:\n",
    "        continue\n",
    "    count = token_dict[key]\n",
    "    \n",
    "    if len(key) == 3:\n",
    "        post_fix_2 = key[-2:]\n",
    "        post_fix_dict_2[post_fix_2] += count\n",
    "        if post_fix_dict_2[post_fix_2] >= 30 and post_fix_2 not in post_fix_2_list:\n",
    "            post_fix_2_list.append(post_fix_2)\n",
    "        continue\n",
    "\n",
    "    post_fix_3 = key[-3:]\n",
    "    post_fix_dict_3[post_fix_3] += count\n",
    "    if post_fix_dict_3[post_fix_3] >= 30 and post_fix_3 not in post_fix_3_list:\n",
    "            post_fix_3_list.append(post_fix_3)\n",
    "    "
   ]
  },
  {
   "cell_type": "code",
   "execution_count": 154,
   "metadata": {},
   "outputs": [
    {
     "data": {
      "text/plain": [
       "28"
      ]
     },
     "execution_count": 154,
     "metadata": {},
     "output_type": "execute_result"
    }
   ],
   "source": [
    "len(post_fix_2_list)"
   ]
  },
  {
   "cell_type": "code",
   "execution_count": 155,
   "metadata": {},
   "outputs": [],
   "source": [
    "label_list =  list(pd.unique(english_dataframe[\"NE-COARSE-LIT\"]))"
   ]
  },
  {
   "cell_type": "code",
   "execution_count": 156,
   "metadata": {},
   "outputs": [
    {
     "name": "stdout",
     "output_type": "stream",
     "text": [
      "0.1\n",
      "0.2\n",
      "0.3\n",
      "0.4\n",
      "0.5\n",
      "0.6\n",
      "0.7\n",
      "0.8\n",
      "0.9\n"
     ]
    }
   ],
   "source": [
    "feature_matrix = []\n",
    "label_matrix = []\n",
    "pos_dict = defaultdict(lambda: [])\n",
    "label_dict = defaultdict(lambda: [])\n",
    "pos = 0\n",
    "progress = [0.1,0.2,0.3,0.4,0.5,0.6,0.7,0.8,0.9,1]\n",
    "prev_label = 0\n",
    "extra_features = 6\n",
    "check = True\n",
    "for idx in english_dataframe.index:\n",
    "    if idx/len(english_dataframe) > progress[0]:\n",
    "        print(progress[0])\n",
    "        progress.pop(0)\n",
    "    pos += 1\n",
    "    row = english_dataframe.iloc[idx]\n",
    "    token = row[\"TOKEN\"]\n",
    "    if isinstance(token, float): #null in the tsv is taken as a nan value\n",
    "        token = \"null\"\n",
    "    prev_label = label\n",
    "    label = int(row[\"NE-COARSE-LIT\"] != \"O\")\n",
    "    if token.lower() in feature_list:\n",
    "        pos_dict[token.lower() ].append(pos)\n",
    "    if \"EndOfSentence\" not in row[\"MISC\"]:\n",
    "        label_dict[token].append((pos,label,prev_label,0))\n",
    "        continue\n",
    "    label_dict[token].append((pos,label,prev_label,1))\n",
    "    # loop of all tokens in a sentence\n",
    "    for token in label_dict:\n",
    "        # loop over all ocurances of a token\n",
    "        for item in label_dict[token]:\n",
    "            feature_vector = np.zeros(shape = (len(feature_list)+extra_features)) #differntiate between wheter a token occurs or wheter the current token is in the top 50%\n",
    "            # label_vector = np.zeros(shape=(2))\n",
    "            current_pos = item[0]\n",
    "            \n",
    "            # loop over all features present in a sentence\n",
    "            for feature in pos_dict:\n",
    "                closest_pos = pos_dict[feature][0] - current_pos # starting point\n",
    "                \n",
    "                # loop over all occurences of a feature present in a sentence\n",
    "                for pos in pos_dict[feature]:\n",
    "                    relative_pos = pos - current_pos\n",
    "                    if abs(relative_pos) < abs(closest_pos):\n",
    "                        closest_pos = relative_pos\n",
    "                    else: break\n",
    "                feature_vector[feature_list.index(feature)] = closest_pos\n",
    "            feature_vector[-1] = item[0] # add location as feature\n",
    "            feature_vector[-2] = item[3] # add wheter the item is the end of a sentence\n",
    "            feature_vector[-3] = int(token[0].isupper()) #add wheter the first char is a capital letter\n",
    "            feature_vector[-4] = int(any(char.isdigit() for char in token))\n",
    "            \n",
    "            if len(token) > 3:\n",
    "                post_fix = token[-3:].lower()\n",
    "                if post_fix in post_fix_3_list:\n",
    "                    feature_vector[-5] = post_fix_3_list.index(post_fix) + 1\n",
    "                    check = False\n",
    "                # print(post_fix)\n",
    "            if len(token) > 2:\n",
    "                post_fix = token[-2:].lower()\n",
    "                if post_fix in post_fix_2_list:\n",
    "                    feature_vector[-6] = post_fix_2_list.index(post_fix) + 1\n",
    "                # print(post_fix)\n",
    "            # if not check:\n",
    "            #     print(token)\n",
    "            #     break\n",
    "            feature_matrix.append(feature_vector)\n",
    "            # label_vector[item[1]] = 1\n",
    "            label_matrix.append(item[1])\n",
    "    # break\n",
    "    pos = 0\n",
    "    pos_dict = defaultdict(lambda: [])\n",
    "    label_dict = defaultdict(lambda: [])\n",
    "    prev_label = 0\n",
    "feature_matrix = np.array(feature_matrix)\n",
    "label_matrix = np.array(label_matrix)\n"
   ]
  },
  {
   "cell_type": "code",
   "execution_count": 170,
   "metadata": {},
   "outputs": [
    {
     "name": "stdout",
     "output_type": "stream",
     "text": [
      "[[  0.   1.   0. ...   1.   0.   1.]\n",
      " [  0.   0.   0. ...   0.   0.   2.]\n",
      " [  0.  -1.   0. ...   1.   0.   3.]\n",
      " ...\n",
      " [-59. -24.   0. ...   0.   0. 142.]\n",
      " [-60. -25.  -1. ...   0.   0. 143.]\n",
      " [-62. -27.  -3. ...   1.   1. 145.]]\n"
     ]
    }
   ],
   "source": [
    "print(feature_matrix)"
   ]
  },
  {
   "cell_type": "code",
   "execution_count": 158,
   "metadata": {},
   "outputs": [
    {
     "name": "stdout",
     "output_type": "stream",
     "text": [
      "(29059, 81)\n",
      "29059\n"
     ]
    }
   ],
   "source": [
    "print(feature_matrix.shape)\n",
    "print(len(sentence_idx))"
   ]
  },
  {
   "cell_type": "code",
   "execution_count": 171,
   "metadata": {},
   "outputs": [
    {
     "name": "stdout",
     "output_type": "stream",
     "text": [
      "[0 0 1 ... 0 0 0]\n"
     ]
    }
   ],
   "source": [
    "print(label_matrix)"
   ]
  },
  {
   "cell_type": "code",
   "execution_count": 124,
   "metadata": {},
   "outputs": [
    {
     "name": "stdout",
     "output_type": "stream",
     "text": [
      "2775\n"
     ]
    }
   ],
   "source": [
    "print(sum(label_matrix))"
   ]
  },
  {
   "cell_type": "code",
   "execution_count": 191,
   "metadata": {},
   "outputs": [],
   "source": [
    "np.save(\"feature matrix\", feature_matrix)\n",
    "np.save(\"label matrix\", label_matrix)"
   ]
  },
  {
   "cell_type": "code",
   "execution_count": 195,
   "metadata": {},
   "outputs": [],
   "source": [
    "total_sentences = len(set(sentence_idx))\n",
    "split = 0.5\n",
    "rng = default_rng()\n",
    "training_sentence_ids = rng.choice(total_sentences, size=int(total_sentences*split), replace=False)\n",
    "test_sentence_ids = [i for i in range(total_sentences) if i not in training_sentence_ids]\n",
    "\n",
    "training_id_list = []\n",
    "test_id_list = []\n",
    "for i, item in enumerate(sentence_idx):\n",
    "    if item in training_sentence_ids:\n",
    "        training_id_list.append(i)\n",
    "    else:\n",
    "        test_id_list.append(i)\n",
    "\n",
    "training_feature_matrix = np.array([feature_matrix[i] for i in training_id_list])\n",
    "training_label_matrix = np.array([label_matrix[i] for i in training_id_list])\n",
    "test_feature_matrix = np.array([feature_matrix[i] for i in test_id_list])\n",
    "test_label_matrix = np.array([label_matrix[i] for i in test_id_list])"
   ]
  },
  {
   "cell_type": "code",
   "execution_count": 196,
   "metadata": {},
   "outputs": [
    {
     "name": "stdout",
     "output_type": "stream",
     "text": [
      "[[  0.   1.   0. ...   1.   0.   1.]\n",
      " [  0.   0.   0. ...   0.   0.   2.]\n",
      " [  0.  -1.   0. ...   1.   0.   3.]\n",
      " ...\n",
      " [-59. -24.   0. ...   0.   0. 142.]\n",
      " [-60. -25.  -1. ...   0.   0. 143.]\n",
      " [-62. -27.  -3. ...   1.   1. 145.]]\n"
     ]
    }
   ],
   "source": [
    "print(training_feature_matrix)"
   ]
  },
  {
   "cell_type": "code",
   "execution_count": 207,
   "metadata": {},
   "outputs": [],
   "source": [
    "import decisiontree as dt"
   ]
  },
  {
   "cell_type": "code",
   "execution_count": 208,
   "metadata": {},
   "outputs": [
    {
     "ename": "TypeError",
     "evalue": "only integer scalar arrays can be converted to a scalar index",
     "output_type": "error",
     "traceback": [
      "\u001b[1;31m---------------------------------------------------------------------------\u001b[0m",
      "\u001b[1;31mTypeError\u001b[0m                                 Traceback (most recent call last)",
      "\u001b[1;32m<ipython-input-208-3e21cdc38527>\u001b[0m in \u001b[0;36m<module>\u001b[1;34m\u001b[0m\n\u001b[0;32m      1\u001b[0m \u001b[0mtest_classifier\u001b[0m \u001b[1;33m=\u001b[0m \u001b[0mdt\u001b[0m\u001b[1;33m.\u001b[0m\u001b[0mcustom_decision_tree\u001b[0m\u001b[1;33m(\u001b[0m\u001b[0mtraining_feature_matrix\u001b[0m\u001b[1;33m,\u001b[0m \u001b[0mtraining_label_matrix\u001b[0m\u001b[1;33m,\u001b[0m \u001b[0mdiscrete_idx_list\u001b[0m\u001b[1;33m=\u001b[0m\u001b[1;33m[\u001b[0m\u001b[1;33m-\u001b[0m\u001b[1;36m2\u001b[0m\u001b[1;33m,\u001b[0m\u001b[1;33m-\u001b[0m\u001b[1;36m3\u001b[0m\u001b[1;33m,\u001b[0m\u001b[1;33m-\u001b[0m\u001b[1;36m4\u001b[0m\u001b[1;33m,\u001b[0m\u001b[1;33m-\u001b[0m\u001b[1;36m5\u001b[0m\u001b[1;33m,\u001b[0m\u001b[1;33m-\u001b[0m\u001b[1;36m6\u001b[0m\u001b[1;33m]\u001b[0m\u001b[1;33m,\u001b[0m \u001b[0mmin_samples\u001b[0m\u001b[1;33m=\u001b[0m\u001b[1;36m35\u001b[0m\u001b[1;33m)\u001b[0m\u001b[1;33m\u001b[0m\u001b[1;33m\u001b[0m\u001b[0m\n\u001b[1;32m----> 2\u001b[1;33m \u001b[0mtest_classifier\u001b[0m\u001b[1;33m.\u001b[0m\u001b[0mbuild_tree\u001b[0m\u001b[1;33m(\u001b[0m\u001b[1;33m)\u001b[0m\u001b[1;33m\u001b[0m\u001b[1;33m\u001b[0m\u001b[0m\n\u001b[0m",
      "\u001b[1;32mc:\\Users\\karst\\OneDrive\\Documenten\\uni\\jaar 3 semester 2, het semester dat ik opgaf\\Bachelor-graduation-project\\code\\notebooks\\decisiontree.py\u001b[0m in \u001b[0;36mbuild_tree\u001b[1;34m(self)\u001b[0m\n\u001b[0;32m    152\u001b[0m             \u001b[1;32melse\u001b[0m\u001b[1;33m:\u001b[0m\u001b[1;33m\u001b[0m\u001b[1;33m\u001b[0m\u001b[0m\n\u001b[0;32m    153\u001b[0m                 \u001b[0mmin_idx\u001b[0m \u001b[1;33m=\u001b[0m \u001b[0mmiddle_idx\u001b[0m\u001b[1;33m\u001b[0m\u001b[1;33m\u001b[0m\u001b[0m\n\u001b[1;32m--> 154\u001b[1;33m \u001b[1;33m\u001b[0m\u001b[0m\n\u001b[0m\u001b[0;32m    155\u001b[0m         \u001b[1;31m# if min and max is the same value it will still return the correct info\u001b[0m\u001b[1;33m\u001b[0m\u001b[1;33m\u001b[0m\u001b[1;33m\u001b[0m\u001b[0m\n\u001b[0;32m    156\u001b[0m \u001b[1;33m\u001b[0m\u001b[0m\n",
      "\u001b[1;31mTypeError\u001b[0m: only integer scalar arrays can be converted to a scalar index"
     ]
    }
   ],
   "source": [
    "test_classifier = dt.custom_decision_tree(training_feature_matrix, training_label_matrix, discrete_idx_list=[-2,-3,-4,-5,-6], min_samples=35)\n",
    "test_classifier.build_tree()"
   ]
  },
  {
   "cell_type": "code",
   "execution_count": 161,
   "metadata": {},
   "outputs": [
    {
     "name": "stdout",
     "output_type": "stream",
     "text": [
      "accuracy: 0.9145054176861237\n",
      "recall: 0.27931644077784323\n",
      "precision: 1.0\n",
      "f_1: 0.43666513127590967\n"
     ]
    }
   ],
   "source": [
    "tp = 0\n",
    "fp = 0\n",
    "fn = 0\n",
    "tn = 0\n",
    "total = 0\n",
    "prediction = clf.predict(test_feature_matrix)\n",
    "prev_label = 0\n",
    "for i, pred in enumerate(prediction):\n",
    "    correct_label = test_label_matrix[i]\n",
    "    if correct_label == 0 and pred == 0:\n",
    "        tn += 1\n",
    "    elif correct_label == 0 and pred != 0:\n",
    "        fn += 1\n",
    "    elif correct_label == 1 and pred == 0:\n",
    "        fn += 1\n",
    "    else:\n",
    "        tp += 1\n",
    "\n",
    "accuracy = (tp + tn) / (tp + tn + fp + fn)\n",
    "recall = tp/(tp+fn)\n",
    "precision = tp/(tp+fp)\n",
    "f_1 = (2*precision*recall)/(precision+recall)\n",
    "print(f\"accuracy: {accuracy}\")\n",
    "print(f\"recall: {recall}\")\n",
    "print(f\"precision: {precision}\" )\n",
    "print(f\"f_1: {f_1}\")\n",
    "    "
   ]
  },
  {
   "cell_type": "code",
   "execution_count": 65,
   "metadata": {},
   "outputs": [],
   "source": [
    "test_dict = defaultdict(lambda: {\"tp\": 0, \"fp\": 0, \"tn\": 0, \"fn\": 0})\n",
    "\n",
    "for i, pred in enumerate(prediction):\n",
    "    id = test_id_list[i]\n",
    "    label = english_dataframe.iloc[id][\"NE-COARSE-LIT\"]\n",
    "    if label == \"O\" and pred == 0:\n",
    "        test_dict[\"O\"][\"tp\"] += 1\n",
    "    elif label == \"O\" and pred == 1:\n",
    "        test_dict[\"O\"][\"fn\"] += 1\n",
    "    elif label != \"O\" and pred == 0:\n",
    "        test_dict[label][\"fn\"] += 1\n",
    "        test_dict[\"O\"][\"fp\"] += 1\n",
    "    elif label != \"O\" and pred == 1:\n",
    "        test_dict[label][\"tp\"] += 1\n",
    "        test_dict[\"O\"][\"tn\"] += 1"
   ]
  },
  {
   "cell_type": "code",
   "execution_count": 141,
   "metadata": {},
   "outputs": [
    {
     "name": "stdout",
     "output_type": "stream",
     "text": [
      "B-prod\n",
      "0.21428571428571427\n",
      "------------------------\n",
      "I-prod\n",
      "0.22916666666666666\n",
      "------------------------\n",
      "B-loc\n",
      "0.2082018927444795\n",
      "------------------------\n",
      "I-loc\n",
      "0.20408163265306123\n",
      "------------------------\n",
      "B-org\n",
      "0.15841584158415842\n",
      "------------------------\n",
      "I-org\n",
      "0.18584070796460178\n",
      "------------------------\n",
      "B-time\n",
      "0.047619047619047616\n",
      "------------------------\n",
      "I-time\n",
      "0.06862745098039216\n",
      "------------------------\n",
      "B-pers\n",
      "0.20520231213872833\n",
      "------------------------\n",
      "I-pers\n",
      "0.21353558926487748\n",
      "------------------------\n"
     ]
    }
   ],
   "source": [
    "for key in test_dict:\n",
    "    if key == \"O\":\n",
    "        continue\n",
    "    print(key)\n",
    "    temp_tp = test_dict[key]['tp']\n",
    "    temp_fn = test_dict[key][\"fn\"]\n",
    "    print(temp_tp/(temp_tp+temp_fn))\n",
    "    print(\"------------------------\")\n"
   ]
  },
  {
   "cell_type": "code",
   "execution_count": 52,
   "metadata": {},
   "outputs": [
    {
     "name": "stdout",
     "output_type": "stream",
     "text": [
      "split: 0.1\n",
      "accuracy: 0.9080013867108819\n",
      "recall: 0.26682920875345373\n",
      "precision: 1.0\n",
      "f_1: 0.4182752547635397\n",
      "---------------------------------------------------------------------\n",
      "split: 0.2\n",
      "accuracy: 0.947803761421077\n",
      "recall: 0.29341482423580995\n",
      "precision: 1.04\n",
      "f_1: 0.4565084686454757\n",
      "---------------------------------------------------------------------\n",
      "split: 0.30000000000000004\n",
      "accuracy: 0.9507071540039747\n",
      "recall: 0.3096638976883402\n",
      "precision: 1.0415999999999999\n",
      "f_1: 0.47621459721855125\n",
      "---------------------------------------------------------------------\n",
      "split: 0.4\n",
      "accuracy: 0.9512751522509718\n",
      "recall: 0.30422978757739877\n",
      "precision: 1.041664\n",
      "f_1: 0.47022086793336626\n",
      "---------------------------------------------------------------------\n",
      "split: 0.5\n",
      "accuracy: 0.9527757666849077\n",
      "recall: 0.31229000280876074\n",
      "precision: 1.0416665600000001\n",
      "f_1: 0.4799629102546597\n",
      "---------------------------------------------------------------------\n",
      "split: 0.6\n",
      "accuracy: 0.9532886136776314\n",
      "recall: 0.3130679578335758\n",
      "precision: 1.0416666624\n",
      "f_1: 0.48077197389529863\n",
      "---------------------------------------------------------------------\n",
      "split: 0.7000000000000001\n",
      "accuracy: 0.9535469631539284\n",
      "recall: 0.32483201608749757\n",
      "precision: 1.041666666496\n",
      "f_1: 0.4944021357312424\n",
      "---------------------------------------------------------------------\n",
      "split: 0.8\n",
      "accuracy: 0.9541608218009947\n",
      "recall: 0.3260930501362195\n",
      "precision: 1.04166666665984\n",
      "f_1: 0.4958578109736907\n",
      "---------------------------------------------------------------------\n",
      "split: 0.9\n",
      "accuracy: 0.9576596455749791\n",
      "recall: 0.33446323742605055\n",
      "precision: 1.0416666666663936\n",
      "f_1: 0.5048910442199843\n",
      "---------------------------------------------------------------------\n"
     ]
    }
   ],
   "source": [
    "max_tries = 25\n",
    "avg_acc = 0\n",
    "avg_prec = 0\n",
    "avg_recall = 0\n",
    "avg_f1 = 0\n",
    "leave_per_sample = 0.0015\n",
    "result_dict = defaultdict(lambda: defaultdict(lambda:0))\n",
    "for split in np.arange(0.1,1,0.1):\n",
    "    min_leaves = 30\n",
    "    for itteration in range(max_tries):\n",
    "        total_sentences = len(set(sentence_idx))\n",
    "        rng = default_rng()\n",
    "        training_sentence_ids = rng.choice(total_sentences, size=int(total_sentences*split), replace=False)\n",
    "        test_sentence_ids = [i for i in range(total_sentences) if i not in training_sentence_ids]\n",
    "\n",
    "        training_id_list = []\n",
    "        test_id_list = []\n",
    "        for i, item in enumerate(sentence_idx):\n",
    "            if item in training_sentence_ids:\n",
    "                training_id_list.append(i)\n",
    "            else:\n",
    "                test_id_list.append(i)\n",
    "\n",
    "        training_feature_matrix = np.array([feature_matrix[i] for i in training_id_list])\n",
    "        training_label_matrix = np.array([label_matrix[i] for i in training_id_list])\n",
    "        test_feature_matrix = np.array([feature_matrix[i] for i in test_id_list])\n",
    "        test_label_matrix = np.array([label_matrix[i] for i in test_id_list])\n",
    "        \n",
    "        clf = tree.DecisionTreeClassifier(min_samples_leaf=min_leaves)\n",
    "        clf.fit(training_feature_matrix,training_label_matrix)\n",
    "\n",
    "        tp = 0\n",
    "        fp = 0\n",
    "        fn = 0\n",
    "        tn = 0\n",
    "        total = 0\n",
    "        prediction = clf.predict(test_feature_matrix)\n",
    "        prev_label = 0\n",
    "        for i, pred in enumerate(prediction):\n",
    "            correct_label = test_label_matrix[i]\n",
    "            if correct_label == 0 and pred == 0:\n",
    "                tn += 1\n",
    "            elif correct_label == 0 and pred != 0:\n",
    "                fn += 1\n",
    "            elif correct_label == 1 and pred == 0:\n",
    "                fn += 1\n",
    "            else:\n",
    "                tp += 1\n",
    "\n",
    "        accuracy = (tp + tn) / (tp + tn + fp + fn)\n",
    "        if tp == 0:\n",
    "            recall = 0\n",
    "            precision = 0\n",
    "            f_1 = 0\n",
    "        else:\n",
    "            recall = tp/(tp+fn)\n",
    "            precision = tp/(tp+fp)\n",
    "            f_1 = (2*precision*recall)/(precision+recall)\n",
    "        \n",
    "        avg_acc += accuracy\n",
    "        avg_prec += precision\n",
    "        avg_recall += recall\n",
    "        avg_f1 += f_1\n",
    "\n",
    "    avg_acc /= max_tries\n",
    "    avg_prec /= max_tries\n",
    "    avg_recall /= max_tries\n",
    "    avg_f1 /= max_tries\n",
    "    result_dict[split]['avg_acc'] = avg_acc\n",
    "    result_dict[split]['avg_prec'] = avg_prec\n",
    "    result_dict[split]['avg_recall'] = avg_recall\n",
    "    result_dict[split]['avg_f1'] = avg_f1\n",
    "    print(f\"split: {split}\")  \n",
    "    print(f\"accuracy: {avg_acc}\")\n",
    "    print(f\"recall: {avg_recall}\")\n",
    "    print(f\"precision: {avg_prec}\" )\n",
    "    print(f\"f_1: {avg_f1}\")\n",
    "    print(\"-\"*69)"
   ]
  },
  {
   "cell_type": "code",
   "execution_count": 53,
   "metadata": {},
   "outputs": [
    {
     "data": {
      "image/png": "[encoded data removed]",
      "text/plain": [
       "<Figure size 432x288 with 1 Axes>"
      ]
     },
     "metadata": {
      "needs_background": "light"
     },
     "output_type": "display_data"
    }
   ],
   "source": [
    "x_labels = []\n",
    "y_labels = []\n",
    "for key in result_dict:\n",
    "    x_labels.append(key)\n",
    "    y_labels.append(result_dict[key]['avg_recall'])\n",
    "\n",
    "plt.plot(x_labels,y_labels)\n",
    "plt.show()\n",
    "\n",
    "# from around 30 it doesn't really matter"
   ]
  },
  {
   "cell_type": "code",
   "execution_count": 18,
   "metadata": {},
   "outputs": [
    {
     "data": {
      "image/png": "[encoded data removed]",
      "text/plain": [
       "<Figure size 720x720 with 1 Axes>"
      ]
     },
     "metadata": {
      "needs_background": "light"
     },
     "output_type": "display_data"
    }
   ],
   "source": [
    "plt.figure(figsize=(10,10))\n",
    "tree.plot_tree(clf,feature_names = feature_list + [\"capitalisation\", \"end of sentence\", \"position\", \"prev_label\"], max_depth=4)\n",
    "plt.show()"
   ]
  },
  {
   "cell_type": "code",
   "execution_count": 40,
   "metadata": {},
   "outputs": [
    {
     "name": "stdout",
     "output_type": "stream",
     "text": [
      "min_leaves: 1\n",
      "accuracy: 0.8425674175089546\n",
      "recall: 0.2008975258880133\n",
      "precision: 1.0\n",
      "f_1: 0.3333158125973527\n",
      "---------------------------------------------------------------------\n",
      "min_leaves: 5\n",
      "accuracy: 0.8784601888476543\n",
      "recall: 0.242953480774932\n",
      "precision: 1.0\n",
      "f_1: 0.39005305479700597\n",
      "---------------------------------------------------------------------\n",
      "min_leaves: 10\n",
      "accuracy: 0.8962653246612275\n",
      "recall: 0.27017266925895383\n",
      "precision: 1.0\n",
      "f_1: 0.42419581603839857\n",
      "---------------------------------------------------------------------\n",
      "min_leaves: 15\n",
      "accuracy: 0.9038280359344472\n",
      "recall: 0.2871511817147423\n",
      "precision: 1.0\n",
      "f_1: 0.44504859797485663\n",
      "---------------------------------------------------------------------\n",
      "min_leaves: 20\n",
      "accuracy: 0.9092675512339601\n",
      "recall: 0.3009575456955656\n",
      "precision: 1.0\n",
      "f_1: 0.461482807583239\n",
      "---------------------------------------------------------------------\n",
      "min_leaves: 25\n",
      "accuracy: 0.9113753986350193\n",
      "recall: 0.30350954872263014\n",
      "precision: 1.0\n",
      "f_1: 0.4647489459200627\n",
      "---------------------------------------------------------------------\n",
      "min_leaves: 30\n",
      "accuracy: 0.9176437769964184\n",
      "recall: 0.3156681123729595\n",
      "precision: 1.0\n",
      "f_1: 0.47887754308906083\n",
      "---------------------------------------------------------------------\n",
      "min_leaves: 35\n",
      "accuracy: 0.9178557460541791\n",
      "recall: 0.3146837630652371\n",
      "precision: 1.0\n",
      "f_1: 0.47781604482888995\n",
      "---------------------------------------------------------------------\n",
      "min_leaves: 40\n",
      "accuracy: 0.9194712000096235\n",
      "recall: 0.3192946977248732\n",
      "precision: 1.0\n",
      "f_1: 0.48332937705503737\n",
      "---------------------------------------------------------------------\n",
      "min_leaves: 45\n",
      "accuracy: 0.917658855897406\n",
      "recall: 0.31992418369252396\n",
      "precision: 1.0\n",
      "f_1: 0.4840288237082088\n",
      "---------------------------------------------------------------------\n",
      "min_leaves: 50\n",
      "accuracy: 0.9194534064829789\n",
      "recall: 0.325107528436339\n",
      "precision: 1.0\n",
      "f_1: 0.48994511464963614\n",
      "---------------------------------------------------------------------\n",
      "min_leaves: 55\n",
      "accuracy: 0.9199172189035348\n",
      "recall: 0.3281330203296446\n",
      "precision: 1.0\n",
      "f_1: 0.4933990436942478\n",
      "---------------------------------------------------------------------\n",
      "min_leaves: 60\n",
      "accuracy: 0.9208135148153098\n",
      "recall: 0.32723466961516334\n",
      "precision: 1.0\n",
      "f_1: 0.4920888325607177\n",
      "---------------------------------------------------------------------\n",
      "min_leaves: 65\n",
      "accuracy: 0.920853340077631\n",
      "recall: 0.3234884521718096\n",
      "precision: 1.0\n",
      "f_1: 0.48791963859081183\n",
      "---------------------------------------------------------------------\n",
      "min_leaves: 70\n",
      "accuracy: 0.9191345733978475\n",
      "recall: 0.3290682477629578\n",
      "precision: 1.0\n",
      "f_1: 0.49421066890424803\n",
      "---------------------------------------------------------------------\n",
      "min_leaves: 75\n",
      "accuracy: 0.9190255338830293\n",
      "recall: 0.3208474199242688\n",
      "precision: 1.0\n",
      "f_1: 0.48510749432658784\n",
      "---------------------------------------------------------------------\n",
      "min_leaves: 80\n",
      "accuracy: 0.9205135062717812\n",
      "recall: 0.3281411992736766\n",
      "precision: 1.0\n",
      "f_1: 0.4934345607900519\n",
      "---------------------------------------------------------------------\n",
      "min_leaves: 85\n",
      "accuracy: 0.9188362849755249\n",
      "recall: 0.3254962630795907\n",
      "precision: 1.0\n",
      "f_1: 0.4902426344221334\n",
      "---------------------------------------------------------------------\n",
      "min_leaves: 90\n",
      "accuracy: 0.9187803247942624\n",
      "recall: 0.3257637340246282\n",
      "precision: 1.0\n",
      "f_1: 0.49047289195624116\n",
      "---------------------------------------------------------------------\n",
      "min_leaves: 95\n",
      "accuracy: 0.9200823045871509\n",
      "recall: 0.32468189778598416\n",
      "precision: 1.0\n",
      "f_1: 0.4891384157859207\n",
      "---------------------------------------------------------------------\n"
     ]
    }
   ],
   "source": [
    "\n",
    "test_model = True\n",
    "max_tries = 100\n",
    "for min_leaves in np.arange(0,100,5):\n",
    "    if not test_model:\n",
    "        break\n",
    "    avg_prec = 0\n",
    "    avg_recall = 0\n",
    "    avg_f1 = 0\n",
    "    avg_acc = 0\n",
    "    for itteration in range(max_tries):\n",
    "        total_sentences = len(set(sentence_idx))\n",
    "        split = 0.8\n",
    "        rng = default_rng()\n",
    "        training_sentence_ids = rng.choice(total_sentences, size=int(total_sentences*split), replace=False)\n",
    "        test_sentence_ids = [i for i in range(total_sentences) if i not in training_sentence_ids]\n",
    "\n",
    "        training_id_list = []\n",
    "        test_id_list = []\n",
    "        for i, item in enumerate(sentence_idx):\n",
    "            if item in training_sentence_ids:\n",
    "                training_id_list.append(i)\n",
    "            else:\n",
    "                test_id_list.append(i)\n",
    "\n",
    "        training_feature_matrix = np.array([feature_matrix[i] for i in training_id_list])\n",
    "        training_label_matrix = np.array([label_matrix[i] for i in training_id_list])\n",
    "        test_feature_matrix = np.array([feature_matrix[i] for i in test_id_list])\n",
    "        test_label_matrix = np.array([label_matrix[i] for i in test_id_list])\n",
    "\n",
    "        if min_leaves == 0:\n",
    "            min_leaves = 1\n",
    "        \n",
    "        clf = tree.DecisionTreeClassifier(min_samples_leaf=min_leaves)\n",
    "        clf.fit(training_feature_matrix,training_label_matrix)\n",
    "\n",
    "        tp = 0\n",
    "        fp = 0\n",
    "        fn = 0\n",
    "        tn = 0\n",
    "        total = 0\n",
    "        prediction = clf.predict(test_feature_matrix)\n",
    "        prev_label = 0\n",
    "        for i, pred in enumerate(prediction):\n",
    "            correct_label = test_label_matrix[i]\n",
    "            if correct_label == 0 and pred == 0:\n",
    "                tn += 1\n",
    "            elif correct_label == 0 and pred != 0:\n",
    "                fn += 1\n",
    "            elif correct_label == 1 and pred == 0:\n",
    "                fn += 1\n",
    "            else:\n",
    "                tp += 1\n",
    "\n",
    "        accuracy = (tp + tn) / (tp + tn + fp + fn)\n",
    "        if tp == 0:\n",
    "            recall = 0\n",
    "            precision = 0\n",
    "            f_1 = 0\n",
    "        else:\n",
    "            recall = tp/(tp+fn)\n",
    "            precision = tp/(tp+fp)\n",
    "            f_1 = (2*precision*recall)/(precision+recall)\n",
    "        \n",
    "        avg_acc += accuracy\n",
    "        avg_prec += precision\n",
    "        avg_recall += recall\n",
    "        avg_f1 += f_1\n",
    "    \n",
    "    avg_acc /= max_tries\n",
    "    avg_prec /= max_tries\n",
    "    avg_recall /= max_tries\n",
    "    avg_f1 /= max_tries\n",
    "    print(f\"min_leaves: {min_leaves}\")  \n",
    "    print(f\"accuracy: {avg_acc}\")\n",
    "    print(f\"recall: {avg_recall}\")\n",
    "    print(f\"precision: {avg_prec}\" )\n",
    "    print(f\"f_1: {avg_f1}\")\n",
    "    print('-'*69)\n",
    "\n",
    "    # best leaves is 35"
   ]
  },
  {
   "cell_type": "code",
   "execution_count": 46,
   "metadata": {},
   "outputs": [
    {
     "name": "stdout",
     "output_type": "stream",
     "text": [
      "defaultdict(<function <lambda> at 0x0000018DFE0BA5E8>, {1: defaultdict(<function <lambda>.<locals>.<lambda> at 0x0000018DFDEEE438>, {'accuracy': 0.8611204859939251, 'recall': 0.21017274472168906, 'precision': 1.0, 'f_1': 0.34734337827121337}), 5: defaultdict(<function <lambda>.<locals>.<lambda> at 0x0000018DA82B1EE8>, {'accuracy': 0.8878292461398728, 'recall': 0.23052959501557632, 'precision': 1.0, 'f_1': 0.37468354430379747}), 10: defaultdict(<function <lambda>.<locals>.<lambda> at 0x0000018DFE0BA798>, {'accuracy': 0.9044374563242488, 'recall': 0.31880448318804483, 'precision': 1.0, 'f_1': 0.48347497639282344}), 15: defaultdict(<function <lambda>.<locals>.<lambda> at 0x0000018DFE0BA8B8>, {'accuracy': 0.9094992513724838, 'recall': 0.2879581151832461, 'precision': 1.0, 'f_1': 0.44715447154471544}), 20: defaultdict(<function <lambda>.<locals>.<lambda> at 0x0000018DFE0BA828>, {'accuracy': 0.9096171802054155, 'recall': 0.2954876273653566, 'precision': 1.0, 'f_1': 0.45617977528089887}), 25: defaultdict(<function <lambda>.<locals>.<lambda> at 0x0000018DFE0BA678>, {'accuracy': 0.907184599518735, 'recall': 0.32160804020100503, 'precision': 1.0, 'f_1': 0.4866920152091255}), 30: defaultdict(<function <lambda>.<locals>.<lambda> at 0x0000018DFE0BA288>, {'accuracy': 0.9053643724696356, 'recall': 0.3116564417177914, 'precision': 1.0, 'f_1': 0.4752104770813844}), 35: defaultdict(<function <lambda>.<locals>.<lambda> at 0x0000018DFE0BA3A8>, {'accuracy': 0.9130929791271347, 'recall': 0.3794037940379404, 'precision': 1.0, 'f_1': 0.5500982318271119}), 40: defaultdict(<function <lambda>.<locals>.<lambda> at 0x0000018DFE0BA438>, {'accuracy': 0.9177330895795247, 'recall': 0.35805991440798857, 'precision': 1.0, 'f_1': 0.5273109243697479}), 45: defaultdict(<function <lambda>.<locals>.<lambda> at 0x0000018DFE0BA558>, {'accuracy': 0.9091692519820751, 'recall': 0.29261744966442954, 'precision': 1.0, 'f_1': 0.45275181723779856}), 50: defaultdict(<function <lambda>.<locals>.<lambda> at 0x0000018DFE0BA948>, {'accuracy': 0.9227070347284061, 'recall': 0.3560830860534125, 'precision': 1.0, 'f_1': 0.5251641137855579}), 55: defaultdict(<function <lambda>.<locals>.<lambda> at 0x0000018DFE0BA708>, {'accuracy': 0.9099842077557466, 'recall': 0.35714285714285715, 'precision': 1.0, 'f_1': 0.5263157894736842}), 60: defaultdict(<function <lambda>.<locals>.<lambda> at 0x0000018DFE0BA168>, {'accuracy': 0.9102324792126252, 'recall': 0.31565329883570503, 'precision': 1.0, 'f_1': 0.47984267453294}), 65: defaultdict(<function <lambda>.<locals>.<lambda> at 0x0000018DFE0BA048>, {'accuracy': 0.9194504699927694, 'recall': 0.30893300248138955, 'precision': 1.0, 'f_1': 0.4720379146919431}), 70: defaultdict(<function <lambda>.<locals>.<lambda> at 0x0000018DFE0BAAF8>, {'accuracy': 0.9115843270868824, 'recall': 0.25644699140401145, 'precision': 1.0, 'f_1': 0.4082098061573546}), 75: defaultdict(<function <lambda>.<locals>.<lambda> at 0x0000018DFE0BAB88>, {'accuracy': 0.928169014084507, 'recall': 0.35340729001584786, 'precision': 1.0, 'f_1': 0.522248243559719}), 80: defaultdict(<function <lambda>.<locals>.<lambda> at 0x0000018DFE0BAC18>, {'accuracy': 0.9267318826112997, 'recall': 0.3527336860670194, 'precision': 1.0, 'f_1': 0.5215123859191656}), 85: defaultdict(<function <lambda>.<locals>.<lambda> at 0x0000018DFE0BACA8>, {'accuracy': 0.917011701170117, 'recall': 0.2796875, 'precision': 1.0, 'f_1': 0.43711843711843706}), 90: defaultdict(<function <lambda>.<locals>.<lambda> at 0x0000018DFE0BAD38>, {'accuracy': 0.9129874908020603, 'recall': 0.3555858310626703, 'precision': 1.0, 'f_1': 0.5246231155778894}), 95: defaultdict(<function <lambda>.<locals>.<lambda> at 0x0000018DFE0BADC8>, {'accuracy': 0.910180681028492, 'recall': 0.306970509383378, 'precision': 1.0, 'f_1': 0.46974358974358976})})\n"
     ]
    }
   ],
   "source": [
    "result_dict = defaultdict(lambda:(defaultdict(lambda:0)))\n",
    "min_leaves = 0\n",
    "with open(\"results.txt\") as file:\n",
    "    for line in file:\n",
    "        line = line.rstrip()\n",
    "        if line == \"-\"*69:\n",
    "            continue\n",
    "        split = line.split(\": \")\n",
    "        label = split[0]\n",
    "        if label == \"min_leaves\":\n",
    "            min_leaves = int(split[1])\n",
    "            continue\n",
    "        result = float(split[1])\n",
    "        result_dict[min_leaves][label] = result\n",
    "        \n",
    "print(result_dict)\n"
   ]
  },
  {
   "cell_type": "code",
   "execution_count": 51,
   "metadata": {},
   "outputs": [
    {
     "data": {
      "image/png": "[encoded data removed]",
      "text/plain": [
       "<Figure size 432x288 with 1 Axes>"
      ]
     },
     "metadata": {
      "needs_background": "light"
     },
     "output_type": "display_data"
    }
   ],
   "source": [
    "x_labels = []\n",
    "y_labels = []\n",
    "for key in result_dict:\n",
    "    x_labels.append(key)\n",
    "    y_labels.append(result_dict[key]['recall'])\n",
    "\n",
    "plt.plot(x_labels,y_labels)\n",
    "plt.show()\n",
    "\n",
    "# from around 30 it doesn't really matter"
   ]
  },
  {
   "cell_type": "code",
   "execution_count": 152,
   "metadata": {},
   "outputs": [],
   "source": [
    "from sklearn.metrics import confusion_matrix"
   ]
  },
  {
   "cell_type": "code",
   "execution_count": 154,
   "metadata": {},
   "outputs": [],
   "source": [
    "test_labels_flat = []\n",
    "pred_labels_flat = []\n",
    "for i in range(len(test_label_matrix)):\n",
    "    test_idx = list(test_label_matrix[i]).index(1)\n",
    "    if 1 in list(prediction[i]):\n",
    "        pred_idx = list(prediction[i]).index(1)\n",
    "    else:\n",
    "        pred_idx = 0\n",
    "    test_labels_flat.append(test_idx)\n",
    "    pred_labels_flat.append(pred_idx)\n",
    "conf_matrix = confusion_matrix(test_labels_flat, pred_labels_flat)"
   ]
  },
  {
   "cell_type": "code",
   "execution_count": 156,
   "metadata": {},
   "outputs": [
    {
     "name": "stdout",
     "output_type": "stream",
     "text": [
      "['O', 'B-prod', 'I-prod', 'B-loc', 'I-loc', 'B-org', 'I-org', 'B-time', 'I-time', 'B-pers', 'I-pers']\n",
      "[[5107    0    5   42   16    3   45   18   97   23  416]\n",
      " [   4    0    0    0    0    1    0    0    0    0    0]\n",
      " [   7    0    0    0    0    0    0    0    0    0    0]\n",
      " [  43    0    0   20    3    2    0    0    0    2   11]\n",
      " [  54    0    0    8    3    1    1    0    0    0    5]\n",
      " [  17    0    0    2    1    0    0    0    0    2    4]\n",
      " [  43    0    0    2    0    0    0    0    1    3    5]\n",
      " [   4    0    0    0    0    0    0    0    0    1    1]\n",
      " [  23    0    0    0    1    0    0    0    0    0    2]\n",
      " [  52    0    0    8    4    1    0    0    2   15    9]\n",
      " [ 100    0    0   10   11    1    2    0    4   16   71]]\n"
     ]
    }
   ],
   "source": [
    "print(label_list)\n",
    "print(conf_matrix)"
   ]
  }
 ],
 "metadata": {
  "interpreter": {
   "hash": "8d583cb8ff8cf199ca57f0ebad24d1eeeb4706b5656d42d5fea7312fa19d29df"
  },
  "kernelspec": {
   "display_name": "Python 3.7.4 ('base')",
   "language": "python",
   "name": "python3"
  },
  "language_info": {
   "codemirror_mode": {
    "name": "ipython",
    "version": 3
   },
   "file_extension": ".py",
   "mimetype": "text/x-python",
   "name": "python",
   "nbconvert_exporter": "python",
   "pygments_lexer": "ipython3",
   "version": "3.7.4"
  },
  "orig_nbformat": 4
 },
 "nbformat": 4,
 "nbformat_minor": 2
}
